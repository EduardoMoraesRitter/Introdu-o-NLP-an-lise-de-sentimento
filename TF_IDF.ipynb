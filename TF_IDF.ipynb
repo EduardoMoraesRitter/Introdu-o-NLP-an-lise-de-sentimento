{
  "nbformat": 4,
  "nbformat_minor": 0,
  "metadata": {
    "colab": {
      "name": "TF-IDF.ipynb",
      "provenance": [],
      "authorship_tag": "ABX9TyNZo1hmxKUos/+RagRSTw/U",
      "include_colab_link": true
    },
    "kernelspec": {
      "name": "python3",
      "display_name": "Python 3"
    }
  },
  "cells": [
    {
      "cell_type": "markdown",
      "metadata": {
        "id": "view-in-github",
        "colab_type": "text"
      },
      "source": [
        "<a href=\"https://colab.research.google.com/github/EduardoMoraesRitter/Introducao-NLP-analise-sentimento/blob/master/TF_IDF.ipynb\" target=\"_parent\"><img src=\"https://colab.research.google.com/assets/colab-badge.svg\" alt=\"Open In Colab\"/></a>"
      ]
    },
    {
      "cell_type": "markdown",
      "metadata": {
        "id": "MlGwrajDA0mX",
        "colab_type": "text"
      },
      "source": [
        "#TF-IDF \n",
        "frequncia dos termos - inverso da frequencia do documento, nova forma de vetorizacao da frases(conta as palavras do saco de palevras)\n",
        "\n",
        "as palavras que menos serepetem tem mais peso, as que sao muito comum tem meno peso.\n",
        "\n",
        "https://scikit-learn.org/stable/modules/generated/sklearn.feature_extraction.text.TfidfVectorizer.html\n",
        "\n",
        "---\n",
        "\n",
        "Assisti um filme ótimo.\n",
        "\n",
        "Assisti um filme péssimo.\n",
        "\n",
        "    frase - Assisti | um | filme | ótimo | péssimo\n",
        "    1     -    1    |  1 |   1   |   2   |    0\n",
        "    2     -    1    |  1 |   1   |   0   |    2\n"
      ]
    },
    {
      "cell_type": "code",
      "metadata": {
        "id": "IVgTcZnUBs02",
        "colab_type": "code",
        "colab": {}
      },
      "source": [
        "from sklearn.feature_extraction.text import TfidfVectorizer\n",
        "import pandas as pd"
      ],
      "execution_count": 0,
      "outputs": []
    },
    {
      "cell_type": "code",
      "metadata": {
        "id": "N9rlQgRqtu0j",
        "colab_type": "code",
        "colab": {}
      },
      "source": [
        "frases = ['Assisti um filme ótimo', 'Assisti um filme péssimo']"
      ],
      "execution_count": 0,
      "outputs": []
    },
    {
      "cell_type": "code",
      "metadata": {
        "id": "dCMZkGkRt7ff",
        "colab_type": "code",
        "colab": {
          "base_uri": "https://localhost:8080/",
          "height": 50
        },
        "outputId": "3088dad2-9d90-4f2a-de34-f75f205725e2"
      },
      "source": [
        "tfidf = TfidfVectorizer(lowercase=False, max_features=50)\n",
        "\n",
        "caracteristicas =  tfidf.fit_transform(frases)\n",
        "\n",
        "caracteristicas"
      ],
      "execution_count": 9,
      "outputs": [
        {
          "output_type": "execute_result",
          "data": {
            "text/plain": [
              "<2x5 sparse matrix of type '<class 'numpy.float64'>'\n",
              "\twith 8 stored elements in Compressed Sparse Row format>"
            ]
          },
          "metadata": {
            "tags": []
          },
          "execution_count": 9
        }
      ]
    },
    {
      "cell_type": "code",
      "metadata": {
        "id": "B47nuUJ9uyt5",
        "colab_type": "code",
        "colab": {
          "base_uri": "https://localhost:8080/",
          "height": 106
        },
        "outputId": "710eb0d6-45c5-4085-a646-3b6d0937d68c"
      },
      "source": [
        "pd.DataFrame(caracteristicas.todense(), columns=tfidf.get_feature_names())"
      ],
      "execution_count": 10,
      "outputs": [
        {
          "output_type": "execute_result",
          "data": {
            "text/html": [
              "<div>\n",
              "<style scoped>\n",
              "    .dataframe tbody tr th:only-of-type {\n",
              "        vertical-align: middle;\n",
              "    }\n",
              "\n",
              "    .dataframe tbody tr th {\n",
              "        vertical-align: top;\n",
              "    }\n",
              "\n",
              "    .dataframe thead th {\n",
              "        text-align: right;\n",
              "    }\n",
              "</style>\n",
              "<table border=\"1\" class=\"dataframe\">\n",
              "  <thead>\n",
              "    <tr style=\"text-align: right;\">\n",
              "      <th></th>\n",
              "      <th>Assisti</th>\n",
              "      <th>filme</th>\n",
              "      <th>péssimo</th>\n",
              "      <th>um</th>\n",
              "      <th>ótimo</th>\n",
              "    </tr>\n",
              "  </thead>\n",
              "  <tbody>\n",
              "    <tr>\n",
              "      <th>0</th>\n",
              "      <td>0.448321</td>\n",
              "      <td>0.448321</td>\n",
              "      <td>0.000000</td>\n",
              "      <td>0.448321</td>\n",
              "      <td>0.630099</td>\n",
              "    </tr>\n",
              "    <tr>\n",
              "      <th>1</th>\n",
              "      <td>0.448321</td>\n",
              "      <td>0.448321</td>\n",
              "      <td>0.630099</td>\n",
              "      <td>0.448321</td>\n",
              "      <td>0.000000</td>\n",
              "    </tr>\n",
              "  </tbody>\n",
              "</table>\n",
              "</div>"
            ],
            "text/plain": [
              "    Assisti     filme   péssimo        um     ótimo\n",
              "0  0.448321  0.448321  0.000000  0.448321  0.630099\n",
              "1  0.448321  0.448321  0.630099  0.448321  0.000000"
            ]
          },
          "metadata": {
            "tags": []
          },
          "execution_count": 10
        }
      ]
    }
  ]
}