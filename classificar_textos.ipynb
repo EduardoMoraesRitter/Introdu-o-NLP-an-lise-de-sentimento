{
  "nbformat": 4,
  "nbformat_minor": 0,
  "metadata": {
    "colab": {
      "name": "classificar_textos",
      "provenance": [],
      "authorship_tag": "ABX9TyNscf4pRMzCDOlCWrSCYLxw",
      "include_colab_link": true
    },
    "kernelspec": {
      "name": "python3",
      "display_name": "Python 3"
    }
  },
  "cells": [
    {
      "cell_type": "markdown",
      "metadata": {
        "id": "view-in-github",
        "colab_type": "text"
      },
      "source": [
        "<a href=\"https://colab.research.google.com/github/EduardoMoraesRitter/Introducao-NLP-analise-sentimento/blob/master/classificar_textos.ipynb\" target=\"_parent\"><img src=\"https://colab.research.google.com/assets/colab-badge.svg\" alt=\"Open In Colab\"/></a>"
      ]
    },
    {
      "cell_type": "markdown",
      "metadata": {
        "id": "vTiCPagvKml0",
        "colab_type": "text"
      },
      "source": [
        "##classificar os texto\n",
        "\n",
        "1.   uma base categorizada do IMDB no kaggle em portugues. https://www.kaggle.com/luisfredgs/imdb-ptbr\n",
        "\n",
        "\n",
        "\n",
        "2.   criar uma modelo\n",
        "1.   classificar os texto\n",
        "2.   visualizar com word clouds\n",
        "1.   pareto que nos auxiliará na análise desses dados\n",
        "2.   TOKENIZACAO com NLTK"
      ]
    },
    {
      "cell_type": "code",
      "metadata": {
        "id": "MNqYNM_9fqQh",
        "colab_type": "code",
        "colab": {}
      },
      "source": [
        "import pandas as pd\n",
        "\n",
        "resenha = pd.read_csv('https://raw.githubusercontent.com/EduardoMoraesRitter/Introducao-NLP-analise-sentimento/master/IMDB_KAGGLE.CSV')\n",
        "\n",
        "resenha.head()"
      ],
      "execution_count": 0,
      "outputs": []
    },
    {
      "cell_type": "code",
      "metadata": {
        "id": "kfOkqrTLf1Eb",
        "colab_type": "code",
        "colab": {}
      },
      "source": [
        ""
      ],
      "execution_count": 0,
      "outputs": []
    }
  ]
}