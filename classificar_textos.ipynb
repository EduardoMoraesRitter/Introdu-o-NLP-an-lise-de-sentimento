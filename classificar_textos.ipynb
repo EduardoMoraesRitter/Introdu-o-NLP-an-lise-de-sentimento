{
  "nbformat": 4,
  "nbformat_minor": 0,
  "metadata": {
    "colab": {
      "name": "classificar_textos",
      "provenance": [],
      "authorship_tag": "ABX9TyOrpEvaLKHz5R5XrSRPfgRr",
      "include_colab_link": true
    },
    "kernelspec": {
      "name": "python3",
      "display_name": "Python 3"
    }
  },
  "cells": [
    {
      "cell_type": "markdown",
      "metadata": {
        "id": "view-in-github",
        "colab_type": "text"
      },
      "source": [
        "<a href=\"https://colab.research.google.com/github/EduardoMoraesRitter/Introducao-NLP-analise-sentimento/blob/master/classificar_textos.ipynb\" target=\"_parent\"><img src=\"https://colab.research.google.com/assets/colab-badge.svg\" alt=\"Open In Colab\"/></a>"
      ]
    },
    {
      "cell_type": "markdown",
      "metadata": {
        "id": "vTiCPagvKml0",
        "colab_type": "text"
      },
      "source": [
        "##classificar os texto\n",
        "\n",
        "1.   uma base categorizada do IMDB no kaggle em portugues. https://www.kaggle.com/luisfredgs/imdb-ptbr\n",
        "\n",
        "\n",
        "\n",
        "2.   criar uma modelo\n",
        "1.   classificar os texto\n",
        "2.   visualizar com word clouds\n",
        "1.   pareto que nos auxiliará na análise desses dados\n",
        "2.   TOKENIZACAO com NLTK\n",
        "\n",
        "\n",
        "outro exemplo com LSTM\n",
        "\n",
        "https://medium.com/luisfredgs/an%C3%A1lise-de-sentimentos-com-redes-neurais-recorrentes-lstm-a5352b21e6aa"
      ]
    },
    {
      "cell_type": "code",
      "metadata": {
        "id": "MNqYNM_9fqQh",
        "colab_type": "code",
        "colab": {}
      },
      "source": [
        "import pandas as pd"
      ],
      "execution_count": 0,
      "outputs": []
    },
    {
      "cell_type": "code",
      "metadata": {
        "id": "kfOkqrTLf1Eb",
        "colab_type": "code",
        "colab": {
          "base_uri": "https://localhost:8080/",
          "height": 195
        },
        "outputId": "44c47193-d503-43c5-8ed0-917fd05d9965"
      },
      "source": [
        "#https://raw.githubusercontent.com/EduardoMoraesRitter/Introducao-NLP-analise-sentimento/master/IMDB_KAGGLE.CSV\n",
        "resenha = pd.read_csv('IMDB_KAGGLE.CSV', delimiter=\";\", encoding='latin1')\n",
        "resenha"
      ],
      "execution_count": 20,
      "outputs": [
        {
          "output_type": "execute_result",
          "data": {
            "text/html": [
              "<div>\n",
              "<style scoped>\n",
              "    .dataframe tbody tr th:only-of-type {\n",
              "        vertical-align: middle;\n",
              "    }\n",
              "\n",
              "    .dataframe tbody tr th {\n",
              "        vertical-align: top;\n",
              "    }\n",
              "\n",
              "    .dataframe thead th {\n",
              "        text-align: right;\n",
              "    }\n",
              "</style>\n",
              "<table border=\"1\" class=\"dataframe\">\n",
              "  <thead>\n",
              "    <tr style=\"text-align: right;\">\n",
              "      <th></th>\n",
              "      <th>id</th>\n",
              "      <th>text_pt</th>\n",
              "      <th>sentiment</th>\n",
              "    </tr>\n",
              "  </thead>\n",
              "  <tbody>\n",
              "    <tr>\n",
              "      <th>0</th>\n",
              "      <td>1</td>\n",
              "      <td>Mais uma vez, o Sr. Costner arrumou um filme p...</td>\n",
              "      <td>neg</td>\n",
              "    </tr>\n",
              "    <tr>\n",
              "      <th>1</th>\n",
              "      <td>2</td>\n",
              "      <td>Este é um exemplo do motivo pelo qual a maiori...</td>\n",
              "      <td>neg</td>\n",
              "    </tr>\n",
              "    <tr>\n",
              "      <th>2</th>\n",
              "      <td>3</td>\n",
              "      <td>Primeiro de tudo eu odeio esses raps imbecis, ...</td>\n",
              "      <td>neg</td>\n",
              "    </tr>\n",
              "    <tr>\n",
              "      <th>3</th>\n",
              "      <td>4</td>\n",
              "      <td>Nem mesmo os Beatles puderam escrever músicas ...</td>\n",
              "      <td>neg</td>\n",
              "    </tr>\n",
              "    <tr>\n",
              "      <th>4</th>\n",
              "      <td>5</td>\n",
              "      <td>Filmes de fotos de latão não é uma palavra apr...</td>\n",
              "      <td>neg</td>\n",
              "    </tr>\n",
              "  </tbody>\n",
              "</table>\n",
              "</div>"
            ],
            "text/plain": [
              "   id                                            text_pt sentiment\n",
              "0   1  Mais uma vez, o Sr. Costner arrumou um filme p...       neg\n",
              "1   2  Este é um exemplo do motivo pelo qual a maiori...       neg\n",
              "2   3  Primeiro de tudo eu odeio esses raps imbecis, ...       neg\n",
              "3   4  Nem mesmo os Beatles puderam escrever músicas ...       neg\n",
              "4   5  Filmes de fotos de latão não é uma palavra apr...       neg"
            ]
          },
          "metadata": {
            "tags": []
          },
          "execution_count": 20
        }
      ]
    },
    {
      "cell_type": "code",
      "metadata": {
        "id": "M3acu17MgWUv",
        "colab_type": "code",
        "colab": {}
      },
      "source": [
        ""
      ],
      "execution_count": 0,
      "outputs": []
    }
  ]
}