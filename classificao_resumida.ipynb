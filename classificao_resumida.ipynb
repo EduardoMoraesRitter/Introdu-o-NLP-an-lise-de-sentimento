{
  "nbformat": 4,
  "nbformat_minor": 0,
  "metadata": {
    "colab": {
      "name": "classificao_resumida.ipynb",
      "provenance": [],
      "collapsed_sections": [],
      "authorship_tag": "ABX9TyPZJREG9QRNT2GbgTO4Q1Xw",
      "include_colab_link": true
    },
    "kernelspec": {
      "name": "python3",
      "display_name": "Python 3"
    }
  },
  "cells": [
    {
      "cell_type": "markdown",
      "metadata": {
        "id": "view-in-github",
        "colab_type": "text"
      },
      "source": [
        "<a href=\"https://colab.research.google.com/github/EduardoMoraesRitter/Introducao-NLP-analise-sentimento/blob/master/classificao_resumida.ipynb\" target=\"_parent\"><img src=\"https://colab.research.google.com/assets/colab-badge.svg\" alt=\"Open In Colab\"/></a>"
      ]
    },
    {
      "cell_type": "markdown",
      "metadata": {
        "id": "CEJU6TBKSkM0",
        "colab_type": "text"
      },
      "source": [
        "tratamento:\n",
        "\n",
        "remover stopwords\n",
        "remover pontuacao\n",
        "remover acentos\n",
        "colocar em miusculo\n",
        "colocar em stemmer"
      ]
    },
    {
      "cell_type": "code",
      "metadata": {
        "id": "Ie0ZouraBQB1",
        "colab_type": "code",
        "colab": {
          "base_uri": "https://localhost:8080/",
          "height": 121
        },
        "outputId": "03d30cf0-0ec6-43ee-ae57-81bb17d9beea"
      },
      "source": [
        "import pandas as pd\n",
        "\n",
        "import nltk\n",
        "nltk.download('stopwords') #remove palavras curtas\n",
        "nltk.download('rslp') #raiz das palavras\n",
        "from nltk import tokenize #separa as palavras\n",
        "!pip install Unidecode\n",
        "from unidecode import unidecode #remove acento\n",
        "from string import punctuation #remove pontuacao\n",
        "\n",
        "from sklearn.model_selection import train_test_split\n",
        "from sklearn.feature_extraction.text import TfidfVectorizer\n",
        "from sklearn.linear_model import LogisticRegression"
      ],
      "execution_count": 18,
      "outputs": [
        {
          "output_type": "stream",
          "text": [
            "[nltk_data] Downloading package stopwords to /root/nltk_data...\n",
            "[nltk_data]   Package stopwords is already up-to-date!\n",
            "[nltk_data] Downloading package rslp to /root/nltk_data...\n",
            "[nltk_data]   Package rslp is already up-to-date!\n",
            "Requirement already satisfied: Unidecode in /usr/local/lib/python3.6/dist-packages (1.1.1)\n"
          ],
          "name": "stdout"
        }
      ]
    },
    {
      "cell_type": "code",
      "metadata": {
        "id": "6snwNH-SBkNa",
        "colab_type": "code",
        "colab": {
          "base_uri": "https://localhost:8080/",
          "height": 402
        },
        "outputId": "5210dd86-7cf0-497e-ea19-50e6a0930fa7"
      },
      "source": [
        "resenha = pd.read_csv('https://raw.githubusercontent.com/EduardoMoraesRitter/Introducao-NLP-analise-sentimento/master/IMDB_KAGGLE.CSV', delimiter=\";\", encoding='latin1')\n",
        "resenha"
      ],
      "execution_count": 5,
      "outputs": [
        {
          "output_type": "execute_result",
          "data": {
            "text/html": [
              "<div>\n",
              "<style scoped>\n",
              "    .dataframe tbody tr th:only-of-type {\n",
              "        vertical-align: middle;\n",
              "    }\n",
              "\n",
              "    .dataframe tbody tr th {\n",
              "        vertical-align: top;\n",
              "    }\n",
              "\n",
              "    .dataframe thead th {\n",
              "        text-align: right;\n",
              "    }\n",
              "</style>\n",
              "<table border=\"1\" class=\"dataframe\">\n",
              "  <thead>\n",
              "    <tr style=\"text-align: right;\">\n",
              "      <th></th>\n",
              "      <th>id</th>\n",
              "      <th>text_pt</th>\n",
              "      <th>sentiment</th>\n",
              "    </tr>\n",
              "  </thead>\n",
              "  <tbody>\n",
              "    <tr>\n",
              "      <th>0</th>\n",
              "      <td>1</td>\n",
              "      <td>Mais uma vez, o Sr. Costner arrumou um filme p...</td>\n",
              "      <td>neg</td>\n",
              "    </tr>\n",
              "    <tr>\n",
              "      <th>1</th>\n",
              "      <td>2</td>\n",
              "      <td>Este é um exemplo do motivo pelo qual a maiori...</td>\n",
              "      <td>neg</td>\n",
              "    </tr>\n",
              "    <tr>\n",
              "      <th>2</th>\n",
              "      <td>3</td>\n",
              "      <td>Primeiro de tudo eu odeio esses raps imbecis, ...</td>\n",
              "      <td>neg</td>\n",
              "    </tr>\n",
              "    <tr>\n",
              "      <th>3</th>\n",
              "      <td>4</td>\n",
              "      <td>Nem mesmo os Beatles puderam escrever músicas ...</td>\n",
              "      <td>neg</td>\n",
              "    </tr>\n",
              "    <tr>\n",
              "      <th>4</th>\n",
              "      <td>5</td>\n",
              "      <td>Filmes de fotos de latão não é uma palavra apr...</td>\n",
              "      <td>neg</td>\n",
              "    </tr>\n",
              "    <tr>\n",
              "      <th>...</th>\n",
              "      <td>...</td>\n",
              "      <td>...</td>\n",
              "      <td>...</td>\n",
              "    </tr>\n",
              "    <tr>\n",
              "      <th>49454</th>\n",
              "      <td>49456</td>\n",
              "      <td>Como a média de votos era muito baixa, e o fat...</td>\n",
              "      <td>pos</td>\n",
              "    </tr>\n",
              "    <tr>\n",
              "      <th>49455</th>\n",
              "      <td>49457</td>\n",
              "      <td>O enredo teve algumas reviravoltas infelizes e...</td>\n",
              "      <td>pos</td>\n",
              "    </tr>\n",
              "    <tr>\n",
              "      <th>49456</th>\n",
              "      <td>49458</td>\n",
              "      <td>Estou espantado com a forma como este filme e ...</td>\n",
              "      <td>pos</td>\n",
              "    </tr>\n",
              "    <tr>\n",
              "      <th>49457</th>\n",
              "      <td>49459</td>\n",
              "      <td>A Christmas Together realmente veio antes do m...</td>\n",
              "      <td>pos</td>\n",
              "    </tr>\n",
              "    <tr>\n",
              "      <th>49458</th>\n",
              "      <td>49460</td>\n",
              "      <td>O drama romântico da classe trabalhadora do di...</td>\n",
              "      <td>pos</td>\n",
              "    </tr>\n",
              "  </tbody>\n",
              "</table>\n",
              "<p>49459 rows × 3 columns</p>\n",
              "</div>"
            ],
            "text/plain": [
              "          id                                            text_pt sentiment\n",
              "0          1  Mais uma vez, o Sr. Costner arrumou um filme p...       neg\n",
              "1          2  Este é um exemplo do motivo pelo qual a maiori...       neg\n",
              "2          3  Primeiro de tudo eu odeio esses raps imbecis, ...       neg\n",
              "3          4  Nem mesmo os Beatles puderam escrever músicas ...       neg\n",
              "4          5  Filmes de fotos de latão não é uma palavra apr...       neg\n",
              "...      ...                                                ...       ...\n",
              "49454  49456  Como a média de votos era muito baixa, e o fat...       pos\n",
              "49455  49457  O enredo teve algumas reviravoltas infelizes e...       pos\n",
              "49456  49458  Estou espantado com a forma como este filme e ...       pos\n",
              "49457  49459  A Christmas Together realmente veio antes do m...       pos\n",
              "49458  49460  O drama romântico da classe trabalhadora do di...       pos\n",
              "\n",
              "[49459 rows x 3 columns]"
            ]
          },
          "metadata": {
            "tags": []
          },
          "execution_count": 5
        }
      ]
    },
    {
      "cell_type": "code",
      "metadata": {
        "id": "dtaST-1sB66d",
        "colab_type": "code",
        "colab": {}
      },
      "source": [
        "resenha['classificacao'] = resenha['sentiment'].replace([\"neg\", \"pos\"], [0,1])"
      ],
      "execution_count": 0,
      "outputs": []
    },
    {
      "cell_type": "code",
      "metadata": {
        "id": "3ZCX213fPhXr",
        "colab_type": "code",
        "colab": {}
      },
      "source": [
        "stemmer = nltk.RSLPStemmer()\n",
        "tokenize_espaco_pontuacao = tokenize.WordPunctTokenizer()"
      ],
      "execution_count": 0,
      "outputs": []
    },
    {
      "cell_type": "code",
      "metadata": {
        "id": "H57L1TTJEEqx",
        "colab_type": "code",
        "colab": {
          "base_uri": "https://localhost:8080/",
          "height": 54
        },
        "outputId": "51319d04-12b3-42bd-e5bd-9805d1451d5f"
      },
      "source": [
        "stopwords = nltk.corpus.stopwords.words('portuguese')\n",
        "pontuacao = list(punctuation)\n",
        "\n",
        "#juntar com a lista de stop word\n",
        "pontuacao_stopword = pontuacao + stopwords\n",
        "\n",
        "pontuacao_stopword_minuscula_sem_acentos_steam = [unidecode(stemmer.stem(texto.lower())) for texto in pontuacao_stopword]\n",
        "\n",
        "print(pontuacao_stopword_minuscula_sem_acentos_steam)"
      ],
      "execution_count": 20,
      "outputs": [
        {
          "output_type": "stream",
          "text": [
            "['!', '\"', '#', '$', '%', '&', \"'\", '(', ')', '*', '+', ',', '-', '.', '/', ':', ';', '<', '=', '>', '?', '@', '[', '\\\\', ']', '^', '_', '`', '{', '|', '}', '~', 'de', 'a', 'o', 'que', 'e', 'e', 'do', 'da', 'em', 'um', 'par', 'com', 'nao', 'uma', 'os', 'no', 'se', 'na', 'por', 'mais', 'as', 'do', 'com', 'mas', 'ao', 'ele', 'da', 'a', 'seu', 'sua', 'ou', 'qu', 'muit', 'no', 'ja', 'eu', 'tambem', 'so', 'pel', 'pel', 'ate', 'iss', 'ela', 'entr', 'depois', 'sem', 'mesm', 'ao', 'seu', 'qu', 'na', 'me', 'ess', 'ele', 'voc', 'ess', 'num', 'nem', 'sua', 'meu', 'as', 'minh', 'num', 'pel', 'ela', 'qual', 'no', 'lhe', 'del', 'ess', 'ess', 'pel', 'est', 'del', 'tu', 'te', 'voc', 'vo', 'lhe', 'meu', 'minh', 'teu', 'tua', 'teu', 'tua', 'noss', 'noss', 'noss', 'noss', 'del', 'del', 'est', 'est', 'est', 'aquel', 'aquel', 'aquel', 'aquel', 'ist', 'aquil', 'est', 'est', 'est', 'est', 'estiv', 'estev', 'estiv', 'estiv', 'est', 'est', 'est', 'estiv', 'estiver', 'estej', 'estej', 'estej', 'estiv', 'estivess', 'estiv', 'estiv', 'estiv', 'estiv', 'hei', 'ha', 'hav', 'hao', 'houv', 'houv', 'houv', 'houv', 'houver', 'haj', 'haj', 'haj', 'houv', 'houvess', 'houv', 'houv', 'houv', 'houv', 'houv', 'houv', 'houv', 'houv', 'houv', 'houv', 'houv', 'sou', 'som', 'sao', 'era', 'er', 'er', 'fui', 'foi', 'fom', 'for', 'for', 'for', 'sej', 'sej', 'sej', 'foss', 'foss', 'foss', 'for', 'form', 'for', 'ser', 'ser', 'ser', 'ser', 'ser', 'ser', 'ser', 'tenh', 'tem', 'tem', 'tem', 'tinh', 'tinh', 'tinh', 'tiv', 'tev', 'tiv', 'tiv', 'tiv', 'tiver', 'tenh', 'tenh', 'tenh', 'tiv', 'tivess', 'tiv', 'tiv', 'tiv', 'tiv', 'ter', 'ter', 'ter', 'ter', 'ter', 'ter', 'ter']\n"
          ],
          "name": "stdout"
        }
      ]
    },
    {
      "cell_type": "code",
      "metadata": {
        "id": "SuV8GOt1EEta",
        "colab_type": "code",
        "colab": {}
      },
      "source": [
        "frase_processada = list()\n",
        "for frase in resenha.text_pt:\n",
        "  nova_frase = list()\n",
        "  lista_palavras = tokenize_espaco_pontuacao.tokenize(frase)\n",
        "  for palavra in lista_palavras:\n",
        "      palavra_minuscula_sem_acentos_steam = unidecode(stemmer.stem(palavra.lower()))\n",
        "      if palavra_minuscula_sem_acentos_steam not in pontuacao_stopword_minuscula_sem_acentos_steam:\n",
        "        nova_frase.append(palavra_minuscula_sem_acentos_steam)\n",
        "  frase_processada.append(' '.join(nova_frase))\n",
        "\n",
        "resenha[\"tratado\"] = frase_processada"
      ],
      "execution_count": 0,
      "outputs": []
    },
    {
      "cell_type": "code",
      "metadata": {
        "id": "YWu72pS8TvUP",
        "colab_type": "code",
        "colab": {
          "base_uri": "https://localhost:8080/",
          "height": 363
        },
        "outputId": "99ae4bac-2bc5-4527-d571-7f61146be280"
      },
      "source": [
        "resenha.head()"
      ],
      "execution_count": 27,
      "outputs": [
        {
          "output_type": "execute_result",
          "data": {
            "text/html": [
              "<div>\n",
              "<style scoped>\n",
              "    .dataframe tbody tr th:only-of-type {\n",
              "        vertical-align: middle;\n",
              "    }\n",
              "\n",
              "    .dataframe tbody tr th {\n",
              "        vertical-align: top;\n",
              "    }\n",
              "\n",
              "    .dataframe thead th {\n",
              "        text-align: right;\n",
              "    }\n",
              "</style>\n",
              "<table border=\"1\" class=\"dataframe\">\n",
              "  <thead>\n",
              "    <tr style=\"text-align: right;\">\n",
              "      <th></th>\n",
              "      <th>id</th>\n",
              "      <th>text_pt</th>\n",
              "      <th>sentiment</th>\n",
              "      <th>classificacao</th>\n",
              "      <th>tratado</th>\n",
              "    </tr>\n",
              "  </thead>\n",
              "  <tbody>\n",
              "    <tr>\n",
              "      <th>0</th>\n",
              "      <td>1</td>\n",
              "      <td>Mais uma vez, o Sr. Costner arrumou um filme p...</td>\n",
              "      <td>neg</td>\n",
              "      <td>0</td>\n",
              "      <td>vez sr costn arrum film temp necess alem terr ...</td>\n",
              "    </tr>\n",
              "    <tr>\n",
              "      <th>1</th>\n",
              "      <td>2</td>\n",
              "      <td>Este é um exemplo do motivo pelo qual a maiori...</td>\n",
              "      <td>neg</td>\n",
              "      <td>0</td>\n",
              "      <td>exempl motiv maior film aca gener chat nad val...</td>\n",
              "    </tr>\n",
              "    <tr>\n",
              "      <th>2</th>\n",
              "      <td>3</td>\n",
              "      <td>Primeiro de tudo eu odeio esses raps imbecis, ...</td>\n",
              "      <td>neg</td>\n",
              "      <td>0</td>\n",
              "      <td>prim tud odei rap imbecil pod agir arm pressio...</td>\n",
              "    </tr>\n",
              "    <tr>\n",
              "      <th>3</th>\n",
              "      <td>4</td>\n",
              "      <td>Nem mesmo os Beatles puderam escrever músicas ...</td>\n",
              "      <td>neg</td>\n",
              "      <td>0</td>\n",
              "      <td>beatl pud escrev music tod gost emb walt hill ...</td>\n",
              "    </tr>\n",
              "    <tr>\n",
              "      <th>4</th>\n",
              "      <td>5</td>\n",
              "      <td>Filmes de fotos de latão não é uma palavra apr...</td>\n",
              "      <td>neg</td>\n",
              "      <td>0</td>\n",
              "      <td>film fot lat palavr apropri verdad tant ous vi...</td>\n",
              "    </tr>\n",
              "  </tbody>\n",
              "</table>\n",
              "</div>"
            ],
            "text/plain": [
              "   id  ...                                            tratado\n",
              "0   1  ...  vez sr costn arrum film temp necess alem terr ...\n",
              "1   2  ...  exempl motiv maior film aca gener chat nad val...\n",
              "2   3  ...  prim tud odei rap imbecil pod agir arm pressio...\n",
              "3   4  ...  beatl pud escrev music tod gost emb walt hill ...\n",
              "4   5  ...  film fot lat palavr apropri verdad tant ous vi...\n",
              "\n",
              "[5 rows x 5 columns]"
            ]
          },
          "metadata": {
            "tags": []
          },
          "execution_count": 27
        }
      ]
    },
    {
      "cell_type": "code",
      "metadata": {
        "id": "bc9WpetOEE1w",
        "colab_type": "code",
        "colab": {}
      },
      "source": [
        "tfidf = TfidfVectorizer(lowercase=False, ngram_range = (1,2))\n",
        "regressa_logistica = LogisticRegression()"
      ],
      "execution_count": 0,
      "outputs": []
    },
    {
      "cell_type": "code",
      "metadata": {
        "id": "zUJ9X1g5D2VP",
        "colab_type": "code",
        "colab": {
          "base_uri": "https://localhost:8080/",
          "height": 34
        },
        "outputId": "aadd8d5b-a67e-4750-8111-e346e6b2050d"
      },
      "source": [
        "vetor_tfidf = tfidf.fit_transform(resenha.tratado)\n",
        "\n",
        "treino, teste, classe_treino, classe_teste = train_test_split(vetor_tfidf, \n",
        "                                                              resenha['classificacao'],\n",
        "                                                              random_state = 42)\n",
        "\n",
        "regressa_logistica.fit(treino, classe_treino)\n",
        "regressa_logistica.score(teste, classe_teste)"
      ],
      "execution_count": 29,
      "outputs": [
        {
          "output_type": "execute_result",
          "data": {
            "text/plain": [
              "0.8833805095026284"
            ]
          },
          "metadata": {
            "tags": []
          },
          "execution_count": 29
        }
      ]
    },
    {
      "cell_type": "code",
      "metadata": {
        "id": "7u5iAhfXTL2K",
        "colab_type": "code",
        "colab": {
          "base_uri": "https://localhost:8080/",
          "height": 722
        },
        "outputId": "d417e78c-d4c1-4e65-c865-6f51a59ecef4"
      },
      "source": [
        "#olhas os pessoas dos termos que a regrassao logistica ultilizou\n",
        "pesos = pd.DataFrame(\n",
        "    regressa_logistica.coef_[0].T,\n",
        "    index = tfidf.get_feature_names()\n",
        ")\n",
        "\n",
        "print(pesos.nlargest(20, 0))\n",
        "print(pesos.nsmallest(20, 0))"
      ],
      "execution_count": 30,
      "outputs": [
        {
          "output_type": "stream",
          "text": [
            "                    0\n",
            "otim         9.935408\n",
            "excel        9.114916\n",
            "perfeit      6.938498\n",
            "incr         6.893152\n",
            "maravilh     6.233774\n",
            "favorit      5.914672\n",
            "divert       5.524272\n",
            "ador         5.069533\n",
            "brilh        4.895002\n",
            "hoj          4.542456\n",
            "fant         4.305807\n",
            "definitiv    4.241743\n",
            "am           4.230152\n",
            "recom        4.098604\n",
            "aind         3.976112\n",
            "vid          3.975999\n",
            "agrad        3.971258\n",
            "surpreend    3.908476\n",
            "melhor film  3.865690\n",
            "gost         3.864185\n",
            "                 0\n",
            "ruim    -11.772484\n",
            "pi      -11.524747\n",
            "horr     -7.906271\n",
            "nad      -7.688091\n",
            "chat     -7.494847\n",
            "parec    -6.978058\n",
            "nenhum   -6.459585\n",
            "tent     -5.892379\n",
            "mal      -5.699906\n",
            "pi film  -5.615525\n",
            "lix      -5.610277\n",
            "estup    -5.446281\n",
            "rot      -5.381422\n",
            "ridicul  -5.300826\n",
            "infeliz  -5.215294\n",
            "minut    -5.208752\n",
            "irrit    -5.202232\n",
            "menos    -5.016487\n",
            "terr     -4.926150\n",
            "sid      -4.719496\n"
          ],
          "name": "stdout"
        }
      ]
    },
    {
      "cell_type": "code",
      "metadata": {
        "id": "bVcr96ukT44X",
        "colab_type": "code",
        "colab": {}
      },
      "source": [
        ""
      ],
      "execution_count": 0,
      "outputs": []
    }
  ]
}