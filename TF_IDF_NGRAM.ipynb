{
  "nbformat": 4,
  "nbformat_minor": 0,
  "metadata": {
    "colab": {
      "name": "TF-IDF_NGRAM.ipynb",
      "provenance": [],
      "collapsed_sections": [],
      "authorship_tag": "ABX9TyO4Q8uMBoR9Dspap3hWSlG+",
      "include_colab_link": true
    },
    "kernelspec": {
      "name": "python3",
      "display_name": "Python 3"
    }
  },
  "cells": [
    {
      "cell_type": "markdown",
      "metadata": {
        "id": "view-in-github",
        "colab_type": "text"
      },
      "source": [
        "<a href=\"https://colab.research.google.com/github/EduardoMoraesRitter/Introducao-NLP-analise-sentimento/blob/master/TF_IDF_NGRAM.ipynb\" target=\"_parent\"><img src=\"https://colab.research.google.com/assets/colab-badge.svg\" alt=\"Open In Colab\"/></a>"
      ]
    },
    {
      "cell_type": "markdown",
      "metadata": {
        "id": "MlGwrajDA0mX",
        "colab_type": "text"
      },
      "source": [
        "#TF-IDF \n",
        "frequncia dos termos - inverso da frequencia do documento, nova forma de vetorizacao da frases(conta as palavras do saco de palevras)\n",
        "\n",
        "as palavras que menos serepetem tem mais peso, as que sao muito comum tem meno peso.\n",
        "\n",
        "https://scikit-learn.org/stable/modules/generated/sklearn.feature_extraction.text.TfidfVectorizer.html\n",
        "\n",
        "---\n",
        "\n",
        "Assisti um filme ótimo.\n",
        "\n",
        "Assisti um filme péssimo.\n",
        "\n",
        "    frase - Assisti | um | filme | ótimo | péssimo\n",
        "    1     -    1    |  1 |   1   |   2   |    0\n",
        "    2     -    1    |  1 |   1   |   0   |    2\n"
      ]
    },
    {
      "cell_type": "code",
      "metadata": {
        "id": "IVgTcZnUBs02",
        "colab_type": "code",
        "colab": {}
      },
      "source": [
        "from sklearn.feature_extraction.text import TfidfVectorizer\n",
        "import pandas as pd"
      ],
      "execution_count": 0,
      "outputs": []
    },
    {
      "cell_type": "code",
      "metadata": {
        "id": "N9rlQgRqtu0j",
        "colab_type": "code",
        "colab": {}
      },
      "source": [
        "frases = ['Assisti um bom filme ótimo', 'Assisti um filme péssimo']"
      ],
      "execution_count": 0,
      "outputs": []
    },
    {
      "cell_type": "code",
      "metadata": {
        "id": "dCMZkGkRt7ff",
        "colab_type": "code",
        "colab": {
          "base_uri": "https://localhost:8080/",
          "height": 50
        },
        "outputId": "9800202c-6499-4e5e-a57e-9924933f217d"
      },
      "source": [
        "tfidf = TfidfVectorizer(lowercase=False, max_features=5)\n",
        "\n",
        "caracteristicas =  tfidf.fit_transform(frases)\n",
        "\n",
        "caracteristicas"
      ],
      "execution_count": 57,
      "outputs": [
        {
          "output_type": "execute_result",
          "data": {
            "text/plain": [
              "<2x5 sparse matrix of type '<class 'numpy.float64'>'\n",
              "\twith 8 stored elements in Compressed Sparse Row format>"
            ]
          },
          "metadata": {
            "tags": []
          },
          "execution_count": 57
        }
      ]
    },
    {
      "cell_type": "code",
      "metadata": {
        "id": "B47nuUJ9uyt5",
        "colab_type": "code",
        "colab": {
          "base_uri": "https://localhost:8080/",
          "height": 106
        },
        "outputId": "f74cc038-6967-4a82-926a-e46fd9be0465"
      },
      "source": [
        "#o max_features elimina as dimencoes como fez com a palavra \"ótimo\"\n",
        "\n",
        "pd.DataFrame(caracteristicas.todense(), columns=tfidf.get_feature_names())"
      ],
      "execution_count": 58,
      "outputs": [
        {
          "output_type": "execute_result",
          "data": {
            "text/html": [
              "<div>\n",
              "<style scoped>\n",
              "    .dataframe tbody tr th:only-of-type {\n",
              "        vertical-align: middle;\n",
              "    }\n",
              "\n",
              "    .dataframe tbody tr th {\n",
              "        vertical-align: top;\n",
              "    }\n",
              "\n",
              "    .dataframe thead th {\n",
              "        text-align: right;\n",
              "    }\n",
              "</style>\n",
              "<table border=\"1\" class=\"dataframe\">\n",
              "  <thead>\n",
              "    <tr style=\"text-align: right;\">\n",
              "      <th></th>\n",
              "      <th>Assisti</th>\n",
              "      <th>bom</th>\n",
              "      <th>filme</th>\n",
              "      <th>péssimo</th>\n",
              "      <th>um</th>\n",
              "    </tr>\n",
              "  </thead>\n",
              "  <tbody>\n",
              "    <tr>\n",
              "      <th>0</th>\n",
              "      <td>0.448321</td>\n",
              "      <td>0.630099</td>\n",
              "      <td>0.448321</td>\n",
              "      <td>0.000000</td>\n",
              "      <td>0.448321</td>\n",
              "    </tr>\n",
              "    <tr>\n",
              "      <th>1</th>\n",
              "      <td>0.448321</td>\n",
              "      <td>0.000000</td>\n",
              "      <td>0.448321</td>\n",
              "      <td>0.630099</td>\n",
              "      <td>0.448321</td>\n",
              "    </tr>\n",
              "  </tbody>\n",
              "</table>\n",
              "</div>"
            ],
            "text/plain": [
              "    Assisti       bom     filme   péssimo        um\n",
              "0  0.448321  0.630099  0.448321  0.000000  0.448321\n",
              "1  0.448321  0.000000  0.448321  0.630099  0.448321"
            ]
          },
          "metadata": {
            "tags": []
          },
          "execution_count": 58
        }
      ]
    },
    {
      "cell_type": "markdown",
      "metadata": {
        "id": "TCrjEWCp7vn0",
        "colab_type": "text"
      },
      "source": [
        "#Ngrams\n",
        "\n",
        "forma de manter a seguancia do texto, uma memoria"
      ]
    },
    {
      "cell_type": "code",
      "metadata": {
        "id": "f9FodwGx7-yj",
        "colab_type": "code",
        "colab": {
          "base_uri": "https://localhost:8080/",
          "height": 50
        },
        "outputId": "a0a0f38e-5271-4c4c-d857-3fa567ba4e2b"
      },
      "source": [
        "from nltk import ngrams\n",
        "frase = 'Assisti um filme ótimo'\n",
        "palavras = frase.split(\" \")\n",
        "print(palavras) #de 4 dimencoes\n",
        "\n",
        "#gerando um bigrama\n",
        "pares = ngrams(palavras, 2)\n",
        "print(list(pares))\n",
        "#vou para mais 3 dimencoes assim almentado o dificonario"
      ],
      "execution_count": 16,
      "outputs": [
        {
          "output_type": "stream",
          "text": [
            "['Assisti', 'um', 'filme', 'ótimo']\n",
            "[('Assisti', 'um'), ('um', 'filme'), ('filme', 'ótimo')]\n"
          ],
          "name": "stdout"
        }
      ]
    },
    {
      "cell_type": "markdown",
      "metadata": {
        "id": "NeIc5M-k8gZp",
        "colab_type": "text"
      },
      "source": [
        "#ngram com fidf"
      ]
    },
    {
      "cell_type": "code",
      "metadata": {
        "id": "fWLRtkky5YBQ",
        "colab_type": "code",
        "colab": {
          "base_uri": "https://localhost:8080/",
          "height": 143
        },
        "outputId": "727e7bfa-43e2-44f7-9c94-409b595068a6"
      },
      "source": [
        "fidf_ngram = TfidfVectorizer(lowercase=False, ngram_range=(1,2))\n",
        "caracteristicas =  tfidf_ngram.fit_transform(frases)\n",
        "pd.DataFrame(caracteristicas.todense(), columns=tfidf_ngram.get_feature_names())"
      ],
      "execution_count": 17,
      "outputs": [
        {
          "output_type": "execute_result",
          "data": {
            "text/html": [
              "<div>\n",
              "<style scoped>\n",
              "    .dataframe tbody tr th:only-of-type {\n",
              "        vertical-align: middle;\n",
              "    }\n",
              "\n",
              "    .dataframe tbody tr th {\n",
              "        vertical-align: top;\n",
              "    }\n",
              "\n",
              "    .dataframe thead th {\n",
              "        text-align: right;\n",
              "    }\n",
              "</style>\n",
              "<table border=\"1\" class=\"dataframe\">\n",
              "  <thead>\n",
              "    <tr style=\"text-align: right;\">\n",
              "      <th></th>\n",
              "      <th>Assisti</th>\n",
              "      <th>Assisti um</th>\n",
              "      <th>filme</th>\n",
              "      <th>filme péssimo</th>\n",
              "      <th>filme ótimo</th>\n",
              "      <th>péssimo</th>\n",
              "      <th>um</th>\n",
              "      <th>um filme</th>\n",
              "      <th>ótimo</th>\n",
              "    </tr>\n",
              "  </thead>\n",
              "  <tbody>\n",
              "    <tr>\n",
              "      <th>0</th>\n",
              "      <td>0.334251</td>\n",
              "      <td>0.334251</td>\n",
              "      <td>0.334251</td>\n",
              "      <td>0.000000</td>\n",
              "      <td>0.469778</td>\n",
              "      <td>0.000000</td>\n",
              "      <td>0.334251</td>\n",
              "      <td>0.334251</td>\n",
              "      <td>0.469778</td>\n",
              "    </tr>\n",
              "    <tr>\n",
              "      <th>1</th>\n",
              "      <td>0.334251</td>\n",
              "      <td>0.334251</td>\n",
              "      <td>0.334251</td>\n",
              "      <td>0.469778</td>\n",
              "      <td>0.000000</td>\n",
              "      <td>0.469778</td>\n",
              "      <td>0.334251</td>\n",
              "      <td>0.334251</td>\n",
              "      <td>0.000000</td>\n",
              "    </tr>\n",
              "  </tbody>\n",
              "</table>\n",
              "</div>"
            ],
            "text/plain": [
              "    Assisti  Assisti um     filme  ...        um  um filme     ótimo\n",
              "0  0.334251    0.334251  0.334251  ...  0.334251  0.334251  0.469778\n",
              "1  0.334251    0.334251  0.334251  ...  0.334251  0.334251  0.000000\n",
              "\n",
              "[2 rows x 9 columns]"
            ]
          },
          "metadata": {
            "tags": []
          },
          "execution_count": 17
        }
      ]
    }
  ]
}