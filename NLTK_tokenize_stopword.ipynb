{
  "nbformat": 4,
  "nbformat_minor": 0,
  "metadata": {
    "colab": {
      "name": "NLTK",
      "provenance": [],
      "authorship_tag": "ABX9TyMVpJs+RBMRJ3ItDNAYMwPw",
      "include_colab_link": true
    },
    "kernelspec": {
      "name": "python3",
      "display_name": "Python 3"
    }
  },
  "cells": [
    {
      "cell_type": "markdown",
      "metadata": {
        "id": "view-in-github",
        "colab_type": "text"
      },
      "source": [
        "<a href=\"https://colab.research.google.com/github/EduardoMoraesRitter/Introducao-NLP-analise-sentimento/blob/master/NLTK_tokenize_stopword.ipynb\" target=\"_parent\"><img src=\"https://colab.research.google.com/assets/colab-badge.svg\" alt=\"Open In Colab\"/></a>"
      ]
    },
    {
      "cell_type": "markdown",
      "metadata": {
        "id": "nu6OHgXH3JHy",
        "colab_type": "text"
      },
      "source": [
        "#tokenização\n",
        "\n",
        "A tokenização é o processo de receber um texto e separar suas palavras ou pontuação de acordo com um tipo de separação específica, gerando os chamados tokens, que são as partes segregadas daquele texto. usamos como separador o espaço em branco, mas temos outras formas de separar nosso texto."
      ]
    },
    {
      "cell_type": "code",
      "metadata": {
        "id": "ZBFD5FReh4Co",
        "colab_type": "code",
        "colab": {}
      },
      "source": [
        "#biblioteca NLTK\n",
        "#baixar o NLTP e os dados\n",
        "import nltk\n",
        "\n",
        "#baixar para todas as linguas\n",
        "#nltk.download(\"all\")"
      ],
      "execution_count": 0,
      "outputs": []
    },
    {
      "cell_type": "code",
      "metadata": {
        "id": "pxyMZuqDh7Zj",
        "colab_type": "code",
        "colab": {}
      },
      "source": [
        "frases = ['um filme ruim', 'um filme bom']"
      ],
      "execution_count": 0,
      "outputs": []
    },
    {
      "cell_type": "code",
      "metadata": {
        "id": "n4xAMJHLiBad",
        "colab_type": "code",
        "outputId": "59ae400d-e720-4962-e7ad-141fd8c8a028",
        "colab": {
          "base_uri": "https://localhost:8080/",
          "height": 34
        }
      },
      "source": [
        "#ele calculo a frequencia da frase\n",
        "nltk.FreqDist(frases)"
      ],
      "execution_count": 0,
      "outputs": [
        {
          "output_type": "execute_result",
          "data": {
            "text/plain": [
              "FreqDist({'um filme bom': 1, 'um filme ruim': 1})"
            ]
          },
          "metadata": {
            "tags": []
          },
          "execution_count": 4
        }
      ]
    },
    {
      "cell_type": "markdown",
      "metadata": {
        "id": "0kRVz8KDihAH",
        "colab_type": "text"
      },
      "source": [
        "Tokenização - explorando o conceito separa cada palavra"
      ]
    },
    {
      "cell_type": "code",
      "metadata": {
        "id": "_WuIola-iJ7t",
        "colab_type": "code",
        "outputId": "88ab9f15-25b6-4e44-9626-b7c5e389b5a7",
        "colab": {
          "base_uri": "https://localhost:8080/",
          "height": 34
        }
      },
      "source": [
        "from nltk import tokenize\n",
        "\n",
        "frase = 'bem vindos ao mundo ao NTLK!'\n",
        "token = tokenize.WhitespaceTokenizer()\n",
        "frases_token = token.tokenize(frase)\n",
        "frases_token"
      ],
      "execution_count": 29,
      "outputs": [
        {
          "output_type": "execute_result",
          "data": {
            "text/plain": [
              "['bem', 'vindos', 'ao', 'mundo', 'ao', 'NTLK!']"
            ]
          },
          "metadata": {
            "tags": []
          },
          "execution_count": 29
        }
      ]
    },
    {
      "cell_type": "code",
      "metadata": {
        "id": "nMcVS_-ljDqO",
        "colab_type": "code",
        "outputId": "e6ee4d87-5ba9-4b30-e716-6cf774dfb9ef",
        "colab": {
          "base_uri": "https://localhost:8080/",
          "height": 34
        }
      },
      "source": [
        "nltk.FreqDist(frases_token)"
      ],
      "execution_count": 0,
      "outputs": [
        {
          "output_type": "execute_result",
          "data": {
            "text/plain": [
              "FreqDist({'NTLK!': 1, 'ao': 2, 'bem': 1, 'mundo': 1, 'vindos': 1})"
            ]
          },
          "metadata": {
            "tags": []
          },
          "execution_count": 6
        }
      ]
    },
    {
      "cell_type": "markdown",
      "metadata": {
        "id": "XiG3qGVS4ezW",
        "colab_type": "text"
      },
      "source": [
        "outra forma o split porem nao é tao bom"
      ]
    },
    {
      "cell_type": "code",
      "metadata": {
        "id": "ypsxTQvxjgAp",
        "colab_type": "code",
        "outputId": "a625b131-2e7b-4ffb-84bf-e2f6a6400aaf",
        "colab": {
          "base_uri": "https://localhost:8080/",
          "height": 50
        }
      },
      "source": [
        "todas_palavras = ' '.join([texto for texto in frases])\n",
        "print(todas_palavras)\n",
        "print('quantidade de palavras: ',len(todas_palavras))"
      ],
      "execution_count": 0,
      "outputs": [
        {
          "output_type": "stream",
          "text": [
            "um filme ruim um filme bom\n",
            "quantidade de palavras:  26\n"
          ],
          "name": "stdout"
        }
      ]
    },
    {
      "cell_type": "code",
      "metadata": {
        "id": "EerPWxRr4kcX",
        "colab_type": "code",
        "outputId": "3005efa4-526c-426d-c6aa-acd5fc76f6e2",
        "colab": {
          "base_uri": "https://localhost:8080/",
          "height": 34
        }
      },
      "source": [
        "palavras_separadas = todas_palavras.split(\" \")\n",
        "palavras_separadas"
      ],
      "execution_count": 0,
      "outputs": [
        {
          "output_type": "execute_result",
          "data": {
            "text/plain": [
              "['um', 'filme', 'ruim', 'um', 'filme', 'bom']"
            ]
          },
          "metadata": {
            "tags": []
          },
          "execution_count": 10
        }
      ]
    },
    {
      "cell_type": "code",
      "metadata": {
        "id": "suVdcHdU5IDZ",
        "colab_type": "code",
        "outputId": "ea3a85a6-3987-4f64-f652-551f76dd8d8b",
        "colab": {
          "base_uri": "https://localhost:8080/",
          "height": 34
        }
      },
      "source": [
        "nltk.FreqDist(palavras_separadas)"
      ],
      "execution_count": 0,
      "outputs": [
        {
          "output_type": "execute_result",
          "data": {
            "text/plain": [
              "FreqDist({'bom': 1, 'filme': 2, 'ruim': 1, 'um': 2})"
            ]
          },
          "metadata": {
            "tags": []
          },
          "execution_count": 11
        }
      ]
    },
    {
      "cell_type": "markdown",
      "metadata": {
        "id": "VZLIIVA5oT2X",
        "colab_type": "text"
      },
      "source": [
        "WordPunctTokenizer nós evitamos que palavras seguidas de pontuação sejam consideradas diferentes."
      ]
    },
    {
      "cell_type": "code",
      "metadata": {
        "id": "RKvdsOWXn-0g",
        "colab_type": "code",
        "colab": {}
      },
      "source": [
        "#[“Os”, “cursos”, “da”, “Alura”, “são”, “ótimos,”, “além”, “de”, “ótimos,”, “têm”, “alunos”, “ótimos!”] \n",
        "#- WordPunctTokenizer();\n",
        "#[“Os”, “cursos”, “da”, “Alura”, “são”, “ótimos”, “,”, “além”, “de”, “ótimos”, “,”, “têm”, “alunos”, “ótimos”, “!”] \n",
        "#- WhitespaceTokenizer();"
      ],
      "execution_count": 0,
      "outputs": []
    },
    {
      "cell_type": "code",
      "metadata": {
        "id": "jvUONNyooj67",
        "colab_type": "code",
        "colab": {
          "base_uri": "https://localhost:8080/",
          "height": 50
        },
        "outputId": "04b9c15a-ffe1-4fe4-c45a-100a7b0feb76"
      },
      "source": [
        "print(\"space: \",tokenize.WhitespaceTokenizer().tokenize('bem vindos ao mundo ao NTLK!'))\n",
        "print(\"Punct: \",tokenize.WordPunctTokenizer().tokenize('bem vindos ao mundo ao NTLK!'))"
      ],
      "execution_count": 32,
      "outputs": [
        {
          "output_type": "stream",
          "text": [
            "space:  ['bem', 'vindos', 'ao', 'mundo', 'ao', 'NTLK!']\n",
            "Punct:  ['bem', 'vindos', 'ao', 'mundo', 'ao', 'NTLK', '!']\n"
          ],
          "name": "stdout"
        }
      ]
    },
    {
      "cell_type": "markdown",
      "metadata": {
        "id": "AXvvC_-slfB5",
        "colab_type": "text"
      },
      "source": [
        "#stopword\n",
        "merge das duas lista remover as stopword das frases"
      ]
    },
    {
      "cell_type": "code",
      "metadata": {
        "id": "XC30gFsalpC-",
        "colab_type": "code",
        "colab": {
          "base_uri": "https://localhost:8080/",
          "height": 67
        },
        "outputId": "7d19a94a-3d3d-47b7-e2de-9c69a29ddf25"
      },
      "source": [
        "#importar os corpus de palavras\n",
        "import nltk\n",
        "nltk.download('stopwords')"
      ],
      "execution_count": 22,
      "outputs": [
        {
          "output_type": "stream",
          "text": [
            "[nltk_data] Downloading package stopwords to /root/nltk_data...\n",
            "[nltk_data]   Unzipping corpora/stopwords.zip.\n"
          ],
          "name": "stdout"
        },
        {
          "output_type": "execute_result",
          "data": {
            "text/plain": [
              "True"
            ]
          },
          "metadata": {
            "tags": []
          },
          "execution_count": 22
        }
      ]
    },
    {
      "cell_type": "code",
      "metadata": {
        "id": "dXBF7Pm8lrNm",
        "colab_type": "code",
        "colab": {
          "base_uri": "https://localhost:8080/",
          "height": 54
        },
        "outputId": "4f5ad102-55bc-4897-9f9d-a63618063121"
      },
      "source": [
        "palavras_irrelevantes = nltk.corpus.stopwords.words('portuguese')\n",
        "print(palavras_irrelevantes)"
      ],
      "execution_count": 23,
      "outputs": [
        {
          "output_type": "stream",
          "text": [
            "['de', 'a', 'o', 'que', 'e', 'é', 'do', 'da', 'em', 'um', 'para', 'com', 'não', 'uma', 'os', 'no', 'se', 'na', 'por', 'mais', 'as', 'dos', 'como', 'mas', 'ao', 'ele', 'das', 'à', 'seu', 'sua', 'ou', 'quando', 'muito', 'nos', 'já', 'eu', 'também', 'só', 'pelo', 'pela', 'até', 'isso', 'ela', 'entre', 'depois', 'sem', 'mesmo', 'aos', 'seus', 'quem', 'nas', 'me', 'esse', 'eles', 'você', 'essa', 'num', 'nem', 'suas', 'meu', 'às', 'minha', 'numa', 'pelos', 'elas', 'qual', 'nós', 'lhe', 'deles', 'essas', 'esses', 'pelas', 'este', 'dele', 'tu', 'te', 'vocês', 'vos', 'lhes', 'meus', 'minhas', 'teu', 'tua', 'teus', 'tuas', 'nosso', 'nossa', 'nossos', 'nossas', 'dela', 'delas', 'esta', 'estes', 'estas', 'aquele', 'aquela', 'aqueles', 'aquelas', 'isto', 'aquilo', 'estou', 'está', 'estamos', 'estão', 'estive', 'esteve', 'estivemos', 'estiveram', 'estava', 'estávamos', 'estavam', 'estivera', 'estivéramos', 'esteja', 'estejamos', 'estejam', 'estivesse', 'estivéssemos', 'estivessem', 'estiver', 'estivermos', 'estiverem', 'hei', 'há', 'havemos', 'hão', 'houve', 'houvemos', 'houveram', 'houvera', 'houvéramos', 'haja', 'hajamos', 'hajam', 'houvesse', 'houvéssemos', 'houvessem', 'houver', 'houvermos', 'houverem', 'houverei', 'houverá', 'houveremos', 'houverão', 'houveria', 'houveríamos', 'houveriam', 'sou', 'somos', 'são', 'era', 'éramos', 'eram', 'fui', 'foi', 'fomos', 'foram', 'fora', 'fôramos', 'seja', 'sejamos', 'sejam', 'fosse', 'fôssemos', 'fossem', 'for', 'formos', 'forem', 'serei', 'será', 'seremos', 'serão', 'seria', 'seríamos', 'seriam', 'tenho', 'tem', 'temos', 'tém', 'tinha', 'tínhamos', 'tinham', 'tive', 'teve', 'tivemos', 'tiveram', 'tivera', 'tivéramos', 'tenha', 'tenhamos', 'tenham', 'tivesse', 'tivéssemos', 'tivessem', 'tiver', 'tivermos', 'tiverem', 'terei', 'terá', 'teremos', 'terão', 'teria', 'teríamos', 'teriam']\n"
          ],
          "name": "stdout"
        }
      ]
    },
    {
      "cell_type": "code",
      "metadata": {
        "id": "BUiBj0eF5RXy",
        "colab_type": "code",
        "colab": {
          "base_uri": "https://localhost:8080/",
          "height": 195
        },
        "outputId": "2f835ba0-b896-4e2e-cc45-329956120c49"
      },
      "source": [
        "import pandas as pd\n",
        "\n",
        "lista_palavras = pd.DataFrame({\"aaa\": [\"eu\", \"teste\", \"vc\", \"da\", \"um\"]})\n",
        "outras = pd.DataFrame({\"aaa\": palavras_irrelevantes})\n",
        "\n",
        "#Can only merge Series or DataFrame objects AND cannot merge a Series without a name\n",
        "merged_left = pd.merge(left=lista_palavras,\n",
        "                       right=outras,\n",
        "                       how='left', )\n",
        "merged_left"
      ],
      "execution_count": 24,
      "outputs": [
        {
          "output_type": "execute_result",
          "data": {
            "text/html": [
              "<div>\n",
              "<style scoped>\n",
              "    .dataframe tbody tr th:only-of-type {\n",
              "        vertical-align: middle;\n",
              "    }\n",
              "\n",
              "    .dataframe tbody tr th {\n",
              "        vertical-align: top;\n",
              "    }\n",
              "\n",
              "    .dataframe thead th {\n",
              "        text-align: right;\n",
              "    }\n",
              "</style>\n",
              "<table border=\"1\" class=\"dataframe\">\n",
              "  <thead>\n",
              "    <tr style=\"text-align: right;\">\n",
              "      <th></th>\n",
              "      <th>aaa</th>\n",
              "    </tr>\n",
              "  </thead>\n",
              "  <tbody>\n",
              "    <tr>\n",
              "      <th>0</th>\n",
              "      <td>eu</td>\n",
              "    </tr>\n",
              "    <tr>\n",
              "      <th>1</th>\n",
              "      <td>teste</td>\n",
              "    </tr>\n",
              "    <tr>\n",
              "      <th>2</th>\n",
              "      <td>vc</td>\n",
              "    </tr>\n",
              "    <tr>\n",
              "      <th>3</th>\n",
              "      <td>da</td>\n",
              "    </tr>\n",
              "    <tr>\n",
              "      <th>4</th>\n",
              "      <td>um</td>\n",
              "    </tr>\n",
              "  </tbody>\n",
              "</table>\n",
              "</div>"
            ],
            "text/plain": [
              "     aaa\n",
              "0     eu\n",
              "1  teste\n",
              "2     vc\n",
              "3     da\n",
              "4     um"
            ]
          },
          "metadata": {
            "tags": []
          },
          "execution_count": 24
        }
      ]
    },
    {
      "cell_type": "code",
      "metadata": {
        "id": "FI1NC4HhUVCS",
        "colab_type": "code",
        "colab": {
          "base_uri": "https://localhost:8080/",
          "height": 106
        },
        "outputId": "edfd0295-2533-469c-ed5b-b3bab374bba5"
      },
      "source": [
        "lista_palavras.merge(outras, indicator='i', how='outer').query('i == \"left_only\"').drop('i', 1)"
      ],
      "execution_count": 25,
      "outputs": [
        {
          "output_type": "execute_result",
          "data": {
            "text/html": [
              "<div>\n",
              "<style scoped>\n",
              "    .dataframe tbody tr th:only-of-type {\n",
              "        vertical-align: middle;\n",
              "    }\n",
              "\n",
              "    .dataframe tbody tr th {\n",
              "        vertical-align: top;\n",
              "    }\n",
              "\n",
              "    .dataframe thead th {\n",
              "        text-align: right;\n",
              "    }\n",
              "</style>\n",
              "<table border=\"1\" class=\"dataframe\">\n",
              "  <thead>\n",
              "    <tr style=\"text-align: right;\">\n",
              "      <th></th>\n",
              "      <th>aaa</th>\n",
              "    </tr>\n",
              "  </thead>\n",
              "  <tbody>\n",
              "    <tr>\n",
              "      <th>1</th>\n",
              "      <td>teste</td>\n",
              "    </tr>\n",
              "    <tr>\n",
              "      <th>2</th>\n",
              "      <td>vc</td>\n",
              "    </tr>\n",
              "  </tbody>\n",
              "</table>\n",
              "</div>"
            ],
            "text/plain": [
              "     aaa\n",
              "1  teste\n",
              "2     vc"
            ]
          },
          "metadata": {
            "tags": []
          },
          "execution_count": 25
        }
      ]
    },
    {
      "cell_type": "code",
      "metadata": {
        "id": "kdihzQuPYEeY",
        "colab_type": "code",
        "colab": {}
      },
      "source": [
        ""
      ],
      "execution_count": 0,
      "outputs": []
    }
  ]
}