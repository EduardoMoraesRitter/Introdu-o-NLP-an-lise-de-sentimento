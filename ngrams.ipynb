{
  "nbformat": 4,
  "nbformat_minor": 0,
  "metadata": {
    "colab": {
      "name": "ngrams.ipynb",
      "provenance": [],
      "authorship_tag": "ABX9TyPYHaodAuqT3uVlse89Tb39",
      "include_colab_link": true
    },
    "kernelspec": {
      "name": "python3",
      "display_name": "Python 3"
    }
  },
  "cells": [
    {
      "cell_type": "markdown",
      "metadata": {
        "id": "view-in-github",
        "colab_type": "text"
      },
      "source": [
        "<a href=\"https://colab.research.google.com/github/EduardoMoraesRitter/Introducao-NLP-analise-sentimento/blob/master/ngrams.ipynb\" target=\"_parent\"><img src=\"https://colab.research.google.com/assets/colab-badge.svg\" alt=\"Open In Colab\"/></a>"
      ]
    },
    {
      "cell_type": "markdown",
      "metadata": {
        "id": "3kCoKiSJ11WJ",
        "colab_type": "text"
      },
      "source": [
        "#Ngrams\n",
        "\n",
        "forma de manter a seguancia do texto, uma memoria, \n",
        "\n",
        "\n",
        "*pensamento: sera que podemos ver em uma frase negativa|positiva mesmo que nao 2 palvras nao estejam em sequencia mais sempre parecem na mesma frase.*\n",
        "\n",
        "*podemos pegar palavra que frequencimente aparecem juntas na mesma frase porem nao em sequencia, e criar um \"bigrama delas\"*"
      ]
    },
    {
      "cell_type": "code",
      "metadata": {
        "id": "JNBh15uQ2h7I",
        "colab_type": "code",
        "colab": {}
      },
      "source": [
        "from nltk import ngrams"
      ],
      "execution_count": 0,
      "outputs": []
    },
    {
      "cell_type": "code",
      "metadata": {
        "id": "dhy6XD4a1u0v",
        "colab_type": "code",
        "colab": {
          "base_uri": "https://localhost:8080/",
          "height": 34
        },
        "outputId": "23d38fb9-c7e5-4e8a-8ec0-d7320c282b4f"
      },
      "source": [
        "frase = 'Assisti um filme ótimo'\n",
        "palavras = frase.split(\" \")\n",
        "palavras\n",
        "#de 4 dimencoes"
      ],
      "execution_count": 3,
      "outputs": [
        {
          "output_type": "execute_result",
          "data": {
            "text/plain": [
              "['Assisti', 'um', 'filme', 'ótimo']"
            ]
          },
          "metadata": {
            "tags": []
          },
          "execution_count": 3
        }
      ]
    },
    {
      "cell_type": "code",
      "metadata": {
        "id": "una8fp202hKD",
        "colab_type": "code",
        "colab": {
          "base_uri": "https://localhost:8080/",
          "height": 34
        },
        "outputId": "56ded7da-3d17-48ca-c756-0a8c46ea8134"
      },
      "source": [
        "#gerando um bigrama\n",
        "pares = ngrams(palavras, 2)\n",
        "list(pares)\n",
        "#vou para mais 3 dimencoes assim almentado o dificonario"
      ],
      "execution_count": 5,
      "outputs": [
        {
          "output_type": "execute_result",
          "data": {
            "text/plain": [
              "[('Assisti', 'um'), ('um', 'filme'), ('filme', 'ótimo')]"
            ]
          },
          "metadata": {
            "tags": []
          },
          "execution_count": 5
        }
      ]
    },
    {
      "cell_type": "code",
      "metadata": {
        "id": "d29pPu4g3JaW",
        "colab_type": "code",
        "colab": {}
      },
      "source": [
        ""
      ],
      "execution_count": 0,
      "outputs": []
    }
  ]
}