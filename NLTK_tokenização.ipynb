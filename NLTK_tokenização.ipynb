{
  "nbformat": 4,
  "nbformat_minor": 0,
  "metadata": {
    "colab": {
      "name": "NLTK",
      "provenance": [],
      "authorship_tag": "ABX9TyPjwn9KPDbKkTHwUgmMTbyM",
      "include_colab_link": true
    },
    "kernelspec": {
      "name": "python3",
      "display_name": "Python 3"
    }
  },
  "cells": [
    {
      "cell_type": "markdown",
      "metadata": {
        "id": "view-in-github",
        "colab_type": "text"
      },
      "source": [
        "<a href=\"https://colab.research.google.com/github/EduardoMoraesRitter/Introducao-NLP-analise-sentimento/blob/master/NLTK_tokeniza%C3%A7%C3%A3o.ipynb\" target=\"_parent\"><img src=\"https://colab.research.google.com/assets/colab-badge.svg\" alt=\"Open In Colab\"/></a>"
      ]
    },
    {
      "cell_type": "markdown",
      "metadata": {
        "id": "nu6OHgXH3JHy",
        "colab_type": "text"
      },
      "source": [
        "A tokenização é o processo de receber um texto e separar suas palavras ou pontuação de acordo com um tipo de separação específica, gerando os chamados tokens, que são as partes segregadas daquele texto. usamos como separador o espaço em branco, mas temos outras formas de separar nosso texto."
      ]
    },
    {
      "cell_type": "code",
      "metadata": {
        "id": "ZBFD5FReh4Co",
        "colab_type": "code",
        "colab": {}
      },
      "source": [
        "#biblioteca NLTK\n",
        "#baixar o NLTP e os dados\n",
        "import nltk\n",
        "\n",
        "#baixar para todas as linguas\n",
        "#nltk.download(\"all\")"
      ],
      "execution_count": 0,
      "outputs": []
    },
    {
      "cell_type": "code",
      "metadata": {
        "id": "pxyMZuqDh7Zj",
        "colab_type": "code",
        "colab": {}
      },
      "source": [
        "frases = ['um filme ruim', 'um filme bom']"
      ],
      "execution_count": 0,
      "outputs": []
    },
    {
      "cell_type": "code",
      "metadata": {
        "id": "n4xAMJHLiBad",
        "colab_type": "code",
        "outputId": "4a8a91e7-1ea4-49f0-94c5-d6185842d2bc",
        "colab": {
          "base_uri": "https://localhost:8080/",
          "height": 34
        }
      },
      "source": [
        "#ele calculo a frequencia da frase\n",
        "nltk.FreqDist(frases)"
      ],
      "execution_count": 0,
      "outputs": [
        {
          "output_type": "execute_result",
          "data": {
            "text/plain": [
              "FreqDist({'um filme bom': 1, 'um filme ruim': 1})"
            ]
          },
          "metadata": {
            "tags": []
          },
          "execution_count": 3
        }
      ]
    },
    {
      "cell_type": "markdown",
      "metadata": {
        "id": "0kRVz8KDihAH",
        "colab_type": "text"
      },
      "source": [
        "Tokenização - explorando o conceito separa cada palavra"
      ]
    },
    {
      "cell_type": "code",
      "metadata": {
        "id": "_WuIola-iJ7t",
        "colab_type": "code",
        "outputId": "8d17fa4a-c6df-4bb2-f208-493e5ac4ce84",
        "colab": {
          "base_uri": "https://localhost:8080/",
          "height": 34
        }
      },
      "source": [
        "from nltk import tokenize\n",
        "\n",
        "frase = 'bem vindos ao mundo ao NTLK!'\n",
        "token = tokenize.WhitespaceTokenizer()\n",
        "frases_token = token.tokenize(frase)\n",
        "frases_token"
      ],
      "execution_count": 0,
      "outputs": [
        {
          "output_type": "execute_result",
          "data": {
            "text/plain": [
              "['bem', 'vindos', 'ao', 'mundo', 'ao', 'NTLK!']"
            ]
          },
          "metadata": {
            "tags": []
          },
          "execution_count": 11
        }
      ]
    },
    {
      "cell_type": "code",
      "metadata": {
        "id": "nMcVS_-ljDqO",
        "colab_type": "code",
        "outputId": "e411600f-c6cb-47d7-db60-fefa2aa8dcd4",
        "colab": {
          "base_uri": "https://localhost:8080/",
          "height": 34
        }
      },
      "source": [
        "nltk.FreqDist(frases_token)"
      ],
      "execution_count": 0,
      "outputs": [
        {
          "output_type": "execute_result",
          "data": {
            "text/plain": [
              "FreqDist({'NTLK!': 1, 'ao': 2, 'bem': 1, 'mundo': 1, 'vindos': 1})"
            ]
          },
          "metadata": {
            "tags": []
          },
          "execution_count": 12
        }
      ]
    },
    {
      "cell_type": "code",
      "metadata": {
        "id": "ypsxTQvxjgAp",
        "colab_type": "code",
        "colab": {}
      },
      "source": [
        ""
      ],
      "execution_count": 0,
      "outputs": []
    }
  ]
}