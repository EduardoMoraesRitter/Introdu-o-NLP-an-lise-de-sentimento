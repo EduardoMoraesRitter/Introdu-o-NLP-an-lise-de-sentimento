{
  "nbformat": 4,
  "nbformat_minor": 0,
  "metadata": {
    "colab": {
      "name": "NLTK",
      "provenance": [],
      "authorship_tag": "ABX9TyMJZhTqW3l+Y8IB3OCuIwEB",
      "include_colab_link": true
    },
    "kernelspec": {
      "name": "python3",
      "display_name": "Python 3"
    }
  },
  "cells": [
    {
      "cell_type": "markdown",
      "metadata": {
        "id": "view-in-github",
        "colab_type": "text"
      },
      "source": [
        "<a href=\"https://colab.research.google.com/github/EduardoMoraesRitter/Introducao-NLP-analise-sentimento/blob/master/NLTK_tokeniza%C3%A7%C3%A3o.ipynb\" target=\"_parent\"><img src=\"https://colab.research.google.com/assets/colab-badge.svg\" alt=\"Open In Colab\"/></a>"
      ]
    },
    {
      "cell_type": "markdown",
      "metadata": {
        "id": "nu6OHgXH3JHy",
        "colab_type": "text"
      },
      "source": [
        "A tokenização é o processo de receber um texto e separar suas palavras ou pontuação de acordo com um tipo de separação específica, gerando os chamados tokens, que são as partes segregadas daquele texto. usamos como separador o espaço em branco, mas temos outras formas de separar nosso texto."
      ]
    },
    {
      "cell_type": "code",
      "metadata": {
        "id": "ZBFD5FReh4Co",
        "colab_type": "code",
        "colab": {}
      },
      "source": [
        "#biblioteca NLTK\n",
        "#baixar o NLTP e os dados\n",
        "import nltk\n",
        "\n",
        "#baixar para todas as linguas\n",
        "#nltk.download(\"all\")"
      ],
      "execution_count": 0,
      "outputs": []
    },
    {
      "cell_type": "code",
      "metadata": {
        "id": "pxyMZuqDh7Zj",
        "colab_type": "code",
        "colab": {}
      },
      "source": [
        "frases = ['um filme ruim', 'um filme bom']"
      ],
      "execution_count": 0,
      "outputs": []
    },
    {
      "cell_type": "code",
      "metadata": {
        "id": "n4xAMJHLiBad",
        "colab_type": "code",
        "outputId": "59ae400d-e720-4962-e7ad-141fd8c8a028",
        "colab": {
          "base_uri": "https://localhost:8080/",
          "height": 34
        }
      },
      "source": [
        "#ele calculo a frequencia da frase\n",
        "nltk.FreqDist(frases)"
      ],
      "execution_count": 4,
      "outputs": [
        {
          "output_type": "execute_result",
          "data": {
            "text/plain": [
              "FreqDist({'um filme bom': 1, 'um filme ruim': 1})"
            ]
          },
          "metadata": {
            "tags": []
          },
          "execution_count": 4
        }
      ]
    },
    {
      "cell_type": "markdown",
      "metadata": {
        "id": "0kRVz8KDihAH",
        "colab_type": "text"
      },
      "source": [
        "Tokenização - explorando o conceito separa cada palavra"
      ]
    },
    {
      "cell_type": "code",
      "metadata": {
        "id": "_WuIola-iJ7t",
        "colab_type": "code",
        "outputId": "1c6bc799-befa-4f01-a627-8baf374f064d",
        "colab": {
          "base_uri": "https://localhost:8080/",
          "height": 34
        }
      },
      "source": [
        "from nltk import tokenize\n",
        "\n",
        "frase = 'bem vindos ao mundo ao NTLK!'\n",
        "token = tokenize.WhitespaceTokenizer()\n",
        "frases_token = token.tokenize(frase)\n",
        "frases_token"
      ],
      "execution_count": 5,
      "outputs": [
        {
          "output_type": "execute_result",
          "data": {
            "text/plain": [
              "['bem', 'vindos', 'ao', 'mundo', 'ao', 'NTLK!']"
            ]
          },
          "metadata": {
            "tags": []
          },
          "execution_count": 5
        }
      ]
    },
    {
      "cell_type": "code",
      "metadata": {
        "id": "nMcVS_-ljDqO",
        "colab_type": "code",
        "outputId": "e6ee4d87-5ba9-4b30-e716-6cf774dfb9ef",
        "colab": {
          "base_uri": "https://localhost:8080/",
          "height": 34
        }
      },
      "source": [
        "nltk.FreqDist(frases_token)"
      ],
      "execution_count": 6,
      "outputs": [
        {
          "output_type": "execute_result",
          "data": {
            "text/plain": [
              "FreqDist({'NTLK!': 1, 'ao': 2, 'bem': 1, 'mundo': 1, 'vindos': 1})"
            ]
          },
          "metadata": {
            "tags": []
          },
          "execution_count": 6
        }
      ]
    },
    {
      "cell_type": "markdown",
      "metadata": {
        "id": "XiG3qGVS4ezW",
        "colab_type": "text"
      },
      "source": [
        "outra forma o split porem nao é tao bom"
      ]
    },
    {
      "cell_type": "code",
      "metadata": {
        "id": "ypsxTQvxjgAp",
        "colab_type": "code",
        "colab": {
          "base_uri": "https://localhost:8080/",
          "height": 50
        },
        "outputId": "a625b131-2e7b-4ffb-84bf-e2f6a6400aaf"
      },
      "source": [
        "todas_palavras = ' '.join([texto for texto in frases])\n",
        "print(todas_palavras)\n",
        "print('quantidade de palavras: ',len(todas_palavras))"
      ],
      "execution_count": 8,
      "outputs": [
        {
          "output_type": "stream",
          "text": [
            "um filme ruim um filme bom\n",
            "quantidade de palavras:  26\n"
          ],
          "name": "stdout"
        }
      ]
    },
    {
      "cell_type": "code",
      "metadata": {
        "id": "EerPWxRr4kcX",
        "colab_type": "code",
        "colab": {
          "base_uri": "https://localhost:8080/",
          "height": 34
        },
        "outputId": "3005efa4-526c-426d-c6aa-acd5fc76f6e2"
      },
      "source": [
        "palavras_separadas = todas_palavras.split(\" \")\n",
        "palavras_separadas"
      ],
      "execution_count": 10,
      "outputs": [
        {
          "output_type": "execute_result",
          "data": {
            "text/plain": [
              "['um', 'filme', 'ruim', 'um', 'filme', 'bom']"
            ]
          },
          "metadata": {
            "tags": []
          },
          "execution_count": 10
        }
      ]
    },
    {
      "cell_type": "code",
      "metadata": {
        "id": "suVdcHdU5IDZ",
        "colab_type": "code",
        "colab": {
          "base_uri": "https://localhost:8080/",
          "height": 34
        },
        "outputId": "ea3a85a6-3987-4f64-f652-551f76dd8d8b"
      },
      "source": [
        "nltk.FreqDist(palavras_separadas)"
      ],
      "execution_count": 11,
      "outputs": [
        {
          "output_type": "execute_result",
          "data": {
            "text/plain": [
              "FreqDist({'bom': 1, 'filme': 2, 'ruim': 1, 'um': 2})"
            ]
          },
          "metadata": {
            "tags": []
          },
          "execution_count": 11
        }
      ]
    },
    {
      "cell_type": "code",
      "metadata": {
        "id": "BUiBj0eF5RXy",
        "colab_type": "code",
        "colab": {}
      },
      "source": [
        ""
      ],
      "execution_count": 0,
      "outputs": []
    }
  ]
}