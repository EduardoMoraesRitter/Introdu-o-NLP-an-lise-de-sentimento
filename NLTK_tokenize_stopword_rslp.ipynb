{
  "nbformat": 4,
  "nbformat_minor": 0,
  "metadata": {
    "colab": {
      "name": "NLTK",
      "provenance": [],
      "authorship_tag": "ABX9TyNE8UPYlaSSnVoooBAdE0/N",
      "include_colab_link": true
    },
    "kernelspec": {
      "name": "python3",
      "display_name": "Python 3"
    }
  },
  "cells": [
    {
      "cell_type": "markdown",
      "metadata": {
        "id": "view-in-github",
        "colab_type": "text"
      },
      "source": [
        "<a href=\"https://colab.research.google.com/github/EduardoMoraesRitter/Introducao-NLP-analise-sentimento/blob/master/NLTK_tokenize_stopword_rslp.ipynb\" target=\"_parent\"><img src=\"https://colab.research.google.com/assets/colab-badge.svg\" alt=\"Open In Colab\"/></a>"
      ]
    },
    {
      "cell_type": "markdown",
      "metadata": {
        "id": "nu6OHgXH3JHy",
        "colab_type": "text"
      },
      "source": [
        "#tokenização\n",
        "\n",
        "A tokenização é o processo de receber um texto e separar suas palavras ou pontuação de acordo com um tipo de separação específica, gerando os chamados tokens, que são as partes segregadas daquele texto. usamos como separador o espaço em branco, mas temos outras formas de separar nosso texto."
      ]
    },
    {
      "cell_type": "code",
      "metadata": {
        "id": "ZBFD5FReh4Co",
        "colab_type": "code",
        "colab": {}
      },
      "source": [
        "#biblioteca NLTK\n",
        "#baixar o NLTP e os dados\n",
        "import nltk\n",
        "\n",
        "#baixar para todas as linguas\n",
        "#nltk.download(\"all\")"
      ],
      "execution_count": 0,
      "outputs": []
    },
    {
      "cell_type": "code",
      "metadata": {
        "id": "pxyMZuqDh7Zj",
        "colab_type": "code",
        "colab": {}
      },
      "source": [
        "frases = ['um filme É ruim', 'um filme tão bom']"
      ],
      "execution_count": 0,
      "outputs": []
    },
    {
      "cell_type": "code",
      "metadata": {
        "id": "n4xAMJHLiBad",
        "colab_type": "code",
        "outputId": "7fd8c078-7a4f-4b28-cf7a-0154a9c4cd2c",
        "colab": {
          "base_uri": "https://localhost:8080/",
          "height": 34
        }
      },
      "source": [
        "#ele calculo a frequencia da frase\n",
        "nltk.FreqDist(frases)"
      ],
      "execution_count": 0,
      "outputs": [
        {
          "output_type": "execute_result",
          "data": {
            "text/plain": [
              "FreqDist({'um filme bom': 1, 'um filme ruim': 1})"
            ]
          },
          "metadata": {
            "tags": []
          },
          "execution_count": 3
        }
      ]
    },
    {
      "cell_type": "markdown",
      "metadata": {
        "id": "0kRVz8KDihAH",
        "colab_type": "text"
      },
      "source": [
        "Tokenização - explorando o conceito separa cada palavra"
      ]
    },
    {
      "cell_type": "code",
      "metadata": {
        "id": "_WuIola-iJ7t",
        "colab_type": "code",
        "outputId": "5c53728a-1393-4bd3-ae55-e2758e185eef",
        "colab": {
          "base_uri": "https://localhost:8080/",
          "height": 34
        }
      },
      "source": [
        "from nltk import tokenize\n",
        "\n",
        "frase = 'bem vindos ao mundo ao NTLK!'\n",
        "token = tokenize.WhitespaceTokenizer()\n",
        "frases_token = token.tokenize(frase)\n",
        "frases_token"
      ],
      "execution_count": 0,
      "outputs": [
        {
          "output_type": "execute_result",
          "data": {
            "text/plain": [
              "['bem', 'vindos', 'ao', 'mundo', 'ao', 'NTLK!']"
            ]
          },
          "metadata": {
            "tags": []
          },
          "execution_count": 4
        }
      ]
    },
    {
      "cell_type": "code",
      "metadata": {
        "id": "nMcVS_-ljDqO",
        "colab_type": "code",
        "outputId": "3352ed66-5677-4e8a-bdc0-3309ffb1e9b8",
        "colab": {
          "base_uri": "https://localhost:8080/",
          "height": 34
        }
      },
      "source": [
        "nltk.FreqDist(frases_token)"
      ],
      "execution_count": 0,
      "outputs": [
        {
          "output_type": "execute_result",
          "data": {
            "text/plain": [
              "FreqDist({'NTLK!': 1, 'ao': 2, 'bem': 1, 'mundo': 1, 'vindos': 1})"
            ]
          },
          "metadata": {
            "tags": []
          },
          "execution_count": 5
        }
      ]
    },
    {
      "cell_type": "markdown",
      "metadata": {
        "id": "XiG3qGVS4ezW",
        "colab_type": "text"
      },
      "source": [
        "outra forma o split porem nao é tao bom"
      ]
    },
    {
      "cell_type": "code",
      "metadata": {
        "id": "ypsxTQvxjgAp",
        "colab_type": "code",
        "outputId": "c4349e5a-483e-41cb-cae9-b398e0641faa",
        "colab": {
          "base_uri": "https://localhost:8080/",
          "height": 50
        }
      },
      "source": [
        "todas_palavras = ' '.join([texto for texto in frases])\n",
        "print(todas_palavras)\n",
        "print('quantidade de palavras: ',len(todas_palavras))"
      ],
      "execution_count": 0,
      "outputs": [
        {
          "output_type": "stream",
          "text": [
            "um filme ruim um filme bom\n",
            "quantidade de palavras:  26\n"
          ],
          "name": "stdout"
        }
      ]
    },
    {
      "cell_type": "code",
      "metadata": {
        "id": "EerPWxRr4kcX",
        "colab_type": "code",
        "outputId": "743e8d0d-185b-4823-e9db-c6d67b2de04c",
        "colab": {
          "base_uri": "https://localhost:8080/",
          "height": 34
        }
      },
      "source": [
        "palavras_separadas = todas_palavras.split(\" \")\n",
        "palavras_separadas"
      ],
      "execution_count": 0,
      "outputs": [
        {
          "output_type": "execute_result",
          "data": {
            "text/plain": [
              "['um', 'filme', 'ruim', 'um', 'filme', 'bom']"
            ]
          },
          "metadata": {
            "tags": []
          },
          "execution_count": 7
        }
      ]
    },
    {
      "cell_type": "code",
      "metadata": {
        "id": "suVdcHdU5IDZ",
        "colab_type": "code",
        "outputId": "e369accd-95cc-42e8-e97e-e15febd19094",
        "colab": {
          "base_uri": "https://localhost:8080/",
          "height": 34
        }
      },
      "source": [
        "nltk.FreqDist(palavras_separadas)"
      ],
      "execution_count": 0,
      "outputs": [
        {
          "output_type": "execute_result",
          "data": {
            "text/plain": [
              "FreqDist({'bom': 1, 'filme': 2, 'ruim': 1, 'um': 2})"
            ]
          },
          "metadata": {
            "tags": []
          },
          "execution_count": 8
        }
      ]
    },
    {
      "cell_type": "markdown",
      "metadata": {
        "id": "VZLIIVA5oT2X",
        "colab_type": "text"
      },
      "source": [
        "WordPunctTokenizer nós evitamos que palavras seguidas de pontuação sejam consideradas diferentes."
      ]
    },
    {
      "cell_type": "code",
      "metadata": {
        "id": "RKvdsOWXn-0g",
        "colab_type": "code",
        "colab": {}
      },
      "source": [
        "#[“Os”, “cursos”, “da”, “Alura”, “são”, “ótimos,”, “além”, “de”, “ótimos,”, “têm”, “alunos”, “ótimos!”] \n",
        "#- WordPunctTokenizer();\n",
        "#[“Os”, “cursos”, “da”, “Alura”, “são”, “ótimos”, “,”, “além”, “de”, “ótimos”, “,”, “têm”, “alunos”, “ótimos”, “!”] \n",
        "#- WhitespaceTokenizer();"
      ],
      "execution_count": 0,
      "outputs": []
    },
    {
      "cell_type": "code",
      "metadata": {
        "id": "jvUONNyooj67",
        "colab_type": "code",
        "outputId": "f1d87ac7-3157-483d-be88-d4a64d52635a",
        "colab": {
          "base_uri": "https://localhost:8080/",
          "height": 50
        }
      },
      "source": [
        "print(\"space: \",tokenize.WhitespaceTokenizer().tokenize('bem vindos ao mundo ao NTLK!'))\n",
        "print(\"Punct: \",tokenize.WordPunctTokenizer().tokenize('bem vindos ao mundo ao NTLK!'))"
      ],
      "execution_count": 0,
      "outputs": [
        {
          "output_type": "stream",
          "text": [
            "space:  ['bem', 'vindos', 'ao', 'mundo', 'ao', 'NTLK!']\n",
            "Punct:  ['bem', 'vindos', 'ao', 'mundo', 'ao', 'NTLK', '!']\n"
          ],
          "name": "stdout"
        }
      ]
    },
    {
      "cell_type": "markdown",
      "metadata": {
        "id": "AXvvC_-slfB5",
        "colab_type": "text"
      },
      "source": [
        "#stopword\n",
        "merge das duas lista remover as stopword das frases"
      ]
    },
    {
      "cell_type": "code",
      "metadata": {
        "id": "XC30gFsalpC-",
        "colab_type": "code",
        "outputId": "8ba6bcef-6f16-44b4-ec38-61a65a16bdfa",
        "colab": {
          "base_uri": "https://localhost:8080/",
          "height": 67
        }
      },
      "source": [
        "#importar os corpus de palavras\n",
        "import nltk\n",
        "nltk.download('stopwords')"
      ],
      "execution_count": 0,
      "outputs": [
        {
          "output_type": "stream",
          "text": [
            "[nltk_data] Downloading package stopwords to /root/nltk_data...\n",
            "[nltk_data]   Unzipping corpora/stopwords.zip.\n"
          ],
          "name": "stdout"
        },
        {
          "output_type": "execute_result",
          "data": {
            "text/plain": [
              "True"
            ]
          },
          "metadata": {
            "tags": []
          },
          "execution_count": 11
        }
      ]
    },
    {
      "cell_type": "code",
      "metadata": {
        "id": "dXBF7Pm8lrNm",
        "colab_type": "code",
        "outputId": "37741bf2-5867-4088-9d12-44d39a4ad291",
        "colab": {
          "base_uri": "https://localhost:8080/",
          "height": 54
        }
      },
      "source": [
        "palavras_irrelevantes = nltk.corpus.stopwords.words('portuguese')\n",
        "print(palavras_irrelevantes)"
      ],
      "execution_count": 0,
      "outputs": [
        {
          "output_type": "stream",
          "text": [
            "['de', 'a', 'o', 'que', 'e', 'é', 'do', 'da', 'em', 'um', 'para', 'com', 'não', 'uma', 'os', 'no', 'se', 'na', 'por', 'mais', 'as', 'dos', 'como', 'mas', 'ao', 'ele', 'das', 'à', 'seu', 'sua', 'ou', 'quando', 'muito', 'nos', 'já', 'eu', 'também', 'só', 'pelo', 'pela', 'até', 'isso', 'ela', 'entre', 'depois', 'sem', 'mesmo', 'aos', 'seus', 'quem', 'nas', 'me', 'esse', 'eles', 'você', 'essa', 'num', 'nem', 'suas', 'meu', 'às', 'minha', 'numa', 'pelos', 'elas', 'qual', 'nós', 'lhe', 'deles', 'essas', 'esses', 'pelas', 'este', 'dele', 'tu', 'te', 'vocês', 'vos', 'lhes', 'meus', 'minhas', 'teu', 'tua', 'teus', 'tuas', 'nosso', 'nossa', 'nossos', 'nossas', 'dela', 'delas', 'esta', 'estes', 'estas', 'aquele', 'aquela', 'aqueles', 'aquelas', 'isto', 'aquilo', 'estou', 'está', 'estamos', 'estão', 'estive', 'esteve', 'estivemos', 'estiveram', 'estava', 'estávamos', 'estavam', 'estivera', 'estivéramos', 'esteja', 'estejamos', 'estejam', 'estivesse', 'estivéssemos', 'estivessem', 'estiver', 'estivermos', 'estiverem', 'hei', 'há', 'havemos', 'hão', 'houve', 'houvemos', 'houveram', 'houvera', 'houvéramos', 'haja', 'hajamos', 'hajam', 'houvesse', 'houvéssemos', 'houvessem', 'houver', 'houvermos', 'houverem', 'houverei', 'houverá', 'houveremos', 'houverão', 'houveria', 'houveríamos', 'houveriam', 'sou', 'somos', 'são', 'era', 'éramos', 'eram', 'fui', 'foi', 'fomos', 'foram', 'fora', 'fôramos', 'seja', 'sejamos', 'sejam', 'fosse', 'fôssemos', 'fossem', 'for', 'formos', 'forem', 'serei', 'será', 'seremos', 'serão', 'seria', 'seríamos', 'seriam', 'tenho', 'tem', 'temos', 'tém', 'tinha', 'tínhamos', 'tinham', 'tive', 'teve', 'tivemos', 'tiveram', 'tivera', 'tivéramos', 'tenha', 'tenhamos', 'tenham', 'tivesse', 'tivéssemos', 'tivessem', 'tiver', 'tivermos', 'tiverem', 'terei', 'terá', 'teremos', 'terão', 'teria', 'teríamos', 'teriam']\n"
          ],
          "name": "stdout"
        }
      ]
    },
    {
      "cell_type": "code",
      "metadata": {
        "id": "BUiBj0eF5RXy",
        "colab_type": "code",
        "outputId": "127926f5-8b23-4f40-a9c7-87ff1d5cb09d",
        "colab": {
          "base_uri": "https://localhost:8080/",
          "height": 225
        }
      },
      "source": [
        "import pandas as pd\n",
        "\n",
        "lista_palavras = pd.DataFrame({\"aaa\": [\"eu\", \"A\", \"teste\", \"vc\", \"da\", \"um\", \"cão\"]})\n",
        "outras = pd.DataFrame({\"aaa\": palavras_irrelevantes})\n",
        "\n",
        "#Can only merge Series or DataFrame objects AND cannot merge a Series without a name\n",
        "merged_left = pd.merge(left=lista_palavras,\n",
        "                       right=outras,\n",
        "                       how='left', )\n",
        "merged_left"
      ],
      "execution_count": 0,
      "outputs": [
        {
          "output_type": "execute_result",
          "data": {
            "text/html": [
              "<div>\n",
              "<style scoped>\n",
              "    .dataframe tbody tr th:only-of-type {\n",
              "        vertical-align: middle;\n",
              "    }\n",
              "\n",
              "    .dataframe tbody tr th {\n",
              "        vertical-align: top;\n",
              "    }\n",
              "\n",
              "    .dataframe thead th {\n",
              "        text-align: right;\n",
              "    }\n",
              "</style>\n",
              "<table border=\"1\" class=\"dataframe\">\n",
              "  <thead>\n",
              "    <tr style=\"text-align: right;\">\n",
              "      <th></th>\n",
              "      <th>aaa</th>\n",
              "    </tr>\n",
              "  </thead>\n",
              "  <tbody>\n",
              "    <tr>\n",
              "      <th>0</th>\n",
              "      <td>eu</td>\n",
              "    </tr>\n",
              "    <tr>\n",
              "      <th>1</th>\n",
              "      <td>teste</td>\n",
              "    </tr>\n",
              "    <tr>\n",
              "      <th>2</th>\n",
              "      <td>vc</td>\n",
              "    </tr>\n",
              "    <tr>\n",
              "      <th>3</th>\n",
              "      <td>da</td>\n",
              "    </tr>\n",
              "    <tr>\n",
              "      <th>4</th>\n",
              "      <td>um</td>\n",
              "    </tr>\n",
              "    <tr>\n",
              "      <th>5</th>\n",
              "      <td>cão</td>\n",
              "    </tr>\n",
              "  </tbody>\n",
              "</table>\n",
              "</div>"
            ],
            "text/plain": [
              "     aaa\n",
              "0     eu\n",
              "1  teste\n",
              "2     vc\n",
              "3     da\n",
              "4     um\n",
              "5    cão"
            ]
          },
          "metadata": {
            "tags": []
          },
          "execution_count": 20
        }
      ]
    },
    {
      "cell_type": "code",
      "metadata": {
        "id": "FI1NC4HhUVCS",
        "colab_type": "code",
        "outputId": "785a9ec8-c919-4688-ec4f-c42b206158c9",
        "colab": {
          "base_uri": "https://localhost:8080/",
          "height": 136
        }
      },
      "source": [
        "lista_palavras.merge(outras, indicator='i', how='outer').query('i == \"left_only\"').drop('i', 1)"
      ],
      "execution_count": 0,
      "outputs": [
        {
          "output_type": "execute_result",
          "data": {
            "text/html": [
              "<div>\n",
              "<style scoped>\n",
              "    .dataframe tbody tr th:only-of-type {\n",
              "        vertical-align: middle;\n",
              "    }\n",
              "\n",
              "    .dataframe tbody tr th {\n",
              "        vertical-align: top;\n",
              "    }\n",
              "\n",
              "    .dataframe thead th {\n",
              "        text-align: right;\n",
              "    }\n",
              "</style>\n",
              "<table border=\"1\" class=\"dataframe\">\n",
              "  <thead>\n",
              "    <tr style=\"text-align: right;\">\n",
              "      <th></th>\n",
              "      <th>aaa</th>\n",
              "    </tr>\n",
              "  </thead>\n",
              "  <tbody>\n",
              "    <tr>\n",
              "      <th>1</th>\n",
              "      <td>teste</td>\n",
              "    </tr>\n",
              "    <tr>\n",
              "      <th>2</th>\n",
              "      <td>vc</td>\n",
              "    </tr>\n",
              "    <tr>\n",
              "      <th>5</th>\n",
              "      <td>cão</td>\n",
              "    </tr>\n",
              "  </tbody>\n",
              "</table>\n",
              "</div>"
            ],
            "text/plain": [
              "     aaa\n",
              "1  teste\n",
              "2     vc\n",
              "5    cão"
            ]
          },
          "metadata": {
            "tags": []
          },
          "execution_count": 21
        }
      ]
    },
    {
      "cell_type": "markdown",
      "metadata": {
        "id": "p11ZYpYSyU9E",
        "colab_type": "text"
      },
      "source": [
        "#Retirando pontuação"
      ]
    },
    {
      "cell_type": "code",
      "metadata": {
        "id": "kdihzQuPYEeY",
        "colab_type": "code",
        "outputId": "5b1a1a0e-ddf5-4216-de04-84778ec910a0",
        "colab": {
          "base_uri": "https://localhost:8080/",
          "height": 67
        }
      },
      "source": [
        "from string import punctuation\n",
        "print(punctuation)\n",
        "print(len(punctuation))\n",
        "print(type(punctuation))"
      ],
      "execution_count": 0,
      "outputs": [
        {
          "output_type": "stream",
          "text": [
            "!\"#$%&'()*+,-./:;<=>?@[\\]^_`{|}~\n",
            "32\n",
            "<class 'str'>\n"
          ],
          "name": "stdout"
        }
      ]
    },
    {
      "cell_type": "code",
      "metadata": {
        "id": "uKTfN4nwye-3",
        "colab_type": "code",
        "outputId": "b18b2482-52ee-45e3-f3aa-7417d9756045",
        "colab": {
          "base_uri": "https://localhost:8080/",
          "height": 54
        }
      },
      "source": [
        "#transforma em lista\n",
        "print(list(punctuation))"
      ],
      "execution_count": 0,
      "outputs": [
        {
          "output_type": "stream",
          "text": [
            "['!', '\"', '#', '$', '%', '&', \"'\", '(', ')', '*', '+', ',', '-', '.', '/', ':', ';', '<', '=', '>', '?', '@', '[', '\\\\', ']', '^', '_', '`', '{', '|', '}', '~']\n"
          ],
          "name": "stdout"
        }
      ]
    },
    {
      "cell_type": "code",
      "metadata": {
        "id": "MKw1yI91zI3g",
        "colab_type": "code",
        "outputId": "8c95fc8a-b60d-45e8-84f4-41f88cb947a8",
        "colab": {
          "base_uri": "https://localhost:8080/",
          "height": 54
        }
      },
      "source": [
        "#ou com for\n",
        "pontuacao = list()\n",
        "\n",
        "for ponto in punctuation:\n",
        "  pontuacao.append(ponto)\n",
        "\n",
        "print(pontuacao)"
      ],
      "execution_count": 0,
      "outputs": [
        {
          "output_type": "stream",
          "text": [
            "['!', '\"', '#', '$', '%', '&', \"'\", '(', ')', '*', '+', ',', '-', '.', '/', ':', ';', '<', '=', '>', '?', '@', '[', '\\\\', ']', '^', '_', '`', '{', '|', '}', '~']\n"
          ],
          "name": "stdout"
        }
      ]
    },
    {
      "cell_type": "code",
      "metadata": {
        "id": "LATPdV_I0Ysj",
        "colab_type": "code",
        "outputId": "e8e714b4-0641-4f55-974e-a82f4101ea70",
        "colab": {
          "base_uri": "https://localhost:8080/",
          "height": 54
        }
      },
      "source": [
        "#juntar as duas lista de pontuacao e stopwords\n",
        "pontuacao_stopwords = pontuacao + palavras_irrelevantes\n",
        "\n",
        "print(pontuacao_stopwords)"
      ],
      "execution_count": 0,
      "outputs": [
        {
          "output_type": "stream",
          "text": [
            "['!', '\"', '#', '$', '%', '&', \"'\", '(', ')', '*', '+', ',', '-', '.', '/', ':', ';', '<', '=', '>', '?', '@', '[', '\\\\', ']', '^', '_', '`', '{', '|', '}', '~', 'de', 'a', 'o', 'que', 'e', 'é', 'do', 'da', 'em', 'um', 'para', 'com', 'não', 'uma', 'os', 'no', 'se', 'na', 'por', 'mais', 'as', 'dos', 'como', 'mas', 'ao', 'ele', 'das', 'à', 'seu', 'sua', 'ou', 'quando', 'muito', 'nos', 'já', 'eu', 'também', 'só', 'pelo', 'pela', 'até', 'isso', 'ela', 'entre', 'depois', 'sem', 'mesmo', 'aos', 'seus', 'quem', 'nas', 'me', 'esse', 'eles', 'você', 'essa', 'num', 'nem', 'suas', 'meu', 'às', 'minha', 'numa', 'pelos', 'elas', 'qual', 'nós', 'lhe', 'deles', 'essas', 'esses', 'pelas', 'este', 'dele', 'tu', 'te', 'vocês', 'vos', 'lhes', 'meus', 'minhas', 'teu', 'tua', 'teus', 'tuas', 'nosso', 'nossa', 'nossos', 'nossas', 'dela', 'delas', 'esta', 'estes', 'estas', 'aquele', 'aquela', 'aqueles', 'aquelas', 'isto', 'aquilo', 'estou', 'está', 'estamos', 'estão', 'estive', 'esteve', 'estivemos', 'estiveram', 'estava', 'estávamos', 'estavam', 'estivera', 'estivéramos', 'esteja', 'estejamos', 'estejam', 'estivesse', 'estivéssemos', 'estivessem', 'estiver', 'estivermos', 'estiverem', 'hei', 'há', 'havemos', 'hão', 'houve', 'houvemos', 'houveram', 'houvera', 'houvéramos', 'haja', 'hajamos', 'hajam', 'houvesse', 'houvéssemos', 'houvessem', 'houver', 'houvermos', 'houverem', 'houverei', 'houverá', 'houveremos', 'houverão', 'houveria', 'houveríamos', 'houveriam', 'sou', 'somos', 'são', 'era', 'éramos', 'eram', 'fui', 'foi', 'fomos', 'foram', 'fora', 'fôramos', 'seja', 'sejamos', 'sejam', 'fosse', 'fôssemos', 'fossem', 'for', 'formos', 'forem', 'serei', 'será', 'seremos', 'serão', 'seria', 'seríamos', 'seriam', 'tenho', 'tem', 'temos', 'tém', 'tinha', 'tínhamos', 'tinham', 'tive', 'teve', 'tivemos', 'tiveram', 'tivera', 'tivéramos', 'tenha', 'tenhamos', 'tenham', 'tivesse', 'tivéssemos', 'tivessem', 'tiver', 'tivermos', 'tiverem', 'terei', 'terá', 'teremos', 'terão', 'teria', 'teríamos', 'teriam']\n"
          ],
          "name": "stdout"
        }
      ]
    },
    {
      "cell_type": "markdown",
      "metadata": {
        "id": "3KQYyI3qRTXS",
        "colab_type": "text"
      },
      "source": [
        "#Retirando acentuação"
      ]
    },
    {
      "cell_type": "code",
      "metadata": {
        "id": "aaBt6h3ZR0MM",
        "colab_type": "code",
        "outputId": "ebe1e4ab-2210-4ee5-d395-cc75f0c5f70e",
        "colab": {
          "base_uri": "https://localhost:8080/",
          "height": 121
        }
      },
      "source": [
        "!pip install Unidecode\n",
        "from unidecode import unidecode"
      ],
      "execution_count": 0,
      "outputs": [
        {
          "output_type": "stream",
          "text": [
            "Collecting Unidecode\n",
            "\u001b[?25l  Downloading https://files.pythonhosted.org/packages/d0/42/d9edfed04228bacea2d824904cae367ee9efd05e6cce7ceaaedd0b0ad964/Unidecode-1.1.1-py2.py3-none-any.whl (238kB)\n",
            "\r\u001b[K     |█▍                              | 10kB 21.1MB/s eta 0:00:01\r\u001b[K     |██▊                             | 20kB 1.8MB/s eta 0:00:01\r\u001b[K     |████▏                           | 30kB 2.3MB/s eta 0:00:01\r\u001b[K     |█████▌                          | 40kB 2.6MB/s eta 0:00:01\r\u001b[K     |██████▉                         | 51kB 2.0MB/s eta 0:00:01\r\u001b[K     |████████▎                       | 61kB 2.3MB/s eta 0:00:01\r\u001b[K     |█████████▋                      | 71kB 2.5MB/s eta 0:00:01\r\u001b[K     |███████████                     | 81kB 2.7MB/s eta 0:00:01\r\u001b[K     |████████████▍                   | 92kB 2.9MB/s eta 0:00:01\r\u001b[K     |█████████████▊                  | 102kB 2.8MB/s eta 0:00:01\r\u001b[K     |███████████████▏                | 112kB 2.8MB/s eta 0:00:01\r\u001b[K     |████████████████▌               | 122kB 2.8MB/s eta 0:00:01\r\u001b[K     |█████████████████▉              | 133kB 2.8MB/s eta 0:00:01\r\u001b[K     |███████████████████▎            | 143kB 2.8MB/s eta 0:00:01\r\u001b[K     |████████████████████▋           | 153kB 2.8MB/s eta 0:00:01\r\u001b[K     |██████████████████████          | 163kB 2.8MB/s eta 0:00:01\r\u001b[K     |███████████████████████▍        | 174kB 2.8MB/s eta 0:00:01\r\u001b[K     |████████████████████████▊       | 184kB 2.8MB/s eta 0:00:01\r\u001b[K     |██████████████████████████▏     | 194kB 2.8MB/s eta 0:00:01\r\u001b[K     |███████████████████████████▌    | 204kB 2.8MB/s eta 0:00:01\r\u001b[K     |████████████████████████████▉   | 215kB 2.8MB/s eta 0:00:01\r\u001b[K     |██████████████████████████████▎ | 225kB 2.8MB/s eta 0:00:01\r\u001b[K     |███████████████████████████████▋| 235kB 2.8MB/s eta 0:00:01\r\u001b[K     |████████████████████████████████| 245kB 2.8MB/s \n",
            "\u001b[?25hInstalling collected packages: Unidecode\n",
            "Successfully installed Unidecode-1.1.1\n"
          ],
          "name": "stdout"
        }
      ]
    },
    {
      "cell_type": "code",
      "metadata": {
        "id": "piYxNF5gRwQ1",
        "colab_type": "code",
        "outputId": "8005a0f0-3b65-48f5-a03f-0c662744bce5",
        "colab": {
          "base_uri": "https://localhost:8080/",
          "height": 34
        }
      },
      "source": [
        "acentos = \"ótimo isso É tão pésimo\"\n",
        "\n",
        "unidecode(acentos)"
      ],
      "execution_count": 0,
      "outputs": [
        {
          "output_type": "execute_result",
          "data": {
            "text/plain": [
              "'otimo isso E tao pesimo'"
            ]
          },
          "metadata": {
            "tags": []
          },
          "execution_count": 33
        }
      ]
    },
    {
      "cell_type": "code",
      "metadata": {
        "id": "MewcxobJUYy-",
        "colab_type": "code",
        "outputId": "de113d30-5436-431d-f029-d3ab3044b592",
        "colab": {
          "base_uri": "https://localhost:8080/",
          "height": 34
        }
      },
      "source": [
        "sem_acentos = [unidecode(texto) for texto in frases]\n",
        "sem_acentos"
      ],
      "execution_count": 0,
      "outputs": [
        {
          "output_type": "execute_result",
          "data": {
            "text/plain": [
              "['um filme e ruim', 'um filme tao bom']"
            ]
          },
          "metadata": {
            "tags": []
          },
          "execution_count": 31
        }
      ]
    },
    {
      "cell_type": "markdown",
      "metadata": {
        "id": "gc1SHXlybkTv",
        "colab_type": "text"
      },
      "source": [
        "#Transformando em minúsculo"
      ]
    },
    {
      "cell_type": "code",
      "metadata": {
        "id": "sgjKQeSXVAf4",
        "colab_type": "code",
        "outputId": "e48bcb1e-54ea-40ad-efbf-624221c5d2e9",
        "colab": {
          "base_uri": "https://localhost:8080/",
          "height": 34
        }
      },
      "source": [
        "acentos.lower()"
      ],
      "execution_count": 0,
      "outputs": [
        {
          "output_type": "execute_result",
          "data": {
            "text/plain": [
              "'ótimo isso é tão pésimo'"
            ]
          },
          "metadata": {
            "tags": []
          },
          "execution_count": 34
        }
      ]
    },
    {
      "cell_type": "markdown",
      "metadata": {
        "id": "C1unNsStezKG",
        "colab_type": "text"
      },
      "source": [
        "#RSLP - stemização\n",
        "\n",
        "Stemmer a raiz da palavra, remover o sufixo transformando radical comum"
      ]
    },
    {
      "cell_type": "code",
      "metadata": {
        "id": "cgNjlGo1foRz",
        "colab_type": "code",
        "outputId": "8daca440-b0f5-49bc-f14a-f794806d342a",
        "colab": {
          "base_uri": "https://localhost:8080/",
          "height": 67
        }
      },
      "source": [
        "import nltk\n",
        "nltk.download('rslp')"
      ],
      "execution_count": 0,
      "outputs": [
        {
          "output_type": "stream",
          "text": [
            "[nltk_data] Downloading package rslp to /root/nltk_data...\n",
            "[nltk_data]   Unzipping stemmers/rslp.zip.\n"
          ],
          "name": "stdout"
        },
        {
          "output_type": "execute_result",
          "data": {
            "text/plain": [
              "True"
            ]
          },
          "metadata": {
            "tags": []
          },
          "execution_count": 36
        }
      ]
    },
    {
      "cell_type": "code",
      "metadata": {
        "id": "du03jLpGb_z4",
        "colab_type": "code",
        "outputId": "e2cc179e-a1b3-45f4-fdf9-45374ea91993",
        "colab": {
          "base_uri": "https://localhost:8080/",
          "height": 34
        }
      },
      "source": [
        "stemmer = nltk.RSLPStemmer()\n",
        "stemmer.stem(\"correr\")"
      ],
      "execution_count": 0,
      "outputs": [
        {
          "output_type": "execute_result",
          "data": {
            "text/plain": [
              "'corr'"
            ]
          },
          "metadata": {
            "tags": []
          },
          "execution_count": 37
        }
      ]
    }
  ]
}